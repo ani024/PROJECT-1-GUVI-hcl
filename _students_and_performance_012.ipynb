{
  "nbformat": 4,
  "nbformat_minor": 0,
  "metadata": {
    "colab": {
      "provenance": []
    },
    "kernelspec": {
      "name": "python3",
      "display_name": "Python 3"
    },
    "language_info": {
      "name": "python"
    }
  },
  "cells": [
    {
      "cell_type": "markdown",
      "source": [
        "# Prepare Data"
      ],
      "metadata": {
        "id": "mceG0YaIUTJe"
      }
    },
    {
      "cell_type": "code",
      "source": [
        "from google.colab import drive\n",
        "drive.mount('/content/drive')"
      ],
      "metadata": {
        "colab": {
          "base_uri": "https://localhost:8080/"
        },
        "id": "qrG_lMwJUZOy",
        "outputId": "99040e3e-b8de-4029-c875-d21d3d83235c"
      },
      "execution_count": 298,
      "outputs": [
        {
          "output_type": "stream",
          "name": "stdout",
          "text": [
            "Drive already mounted at /content/drive; to attempt to forcibly remount, call drive.mount(\"/content/drive\", force_remount=True).\n"
          ]
        }
      ]
    },
    {
      "cell_type": "markdown",
      "source": [
        " # Load and Combine the CSV Files"
      ],
      "metadata": {
        "id": "ZbHhPQZFWvPR"
      }
    },
    {
      "cell_type": "code",
      "execution_count": 299,
      "metadata": {
        "colab": {
          "base_uri": "https://localhost:8080/"
        },
        "id": "8tZmgXKGMFbu",
        "outputId": "3b4b98c2-ebaf-4cc5-84ee-cb13e0d23b7c"
      },
      "outputs": [
        {
          "output_type": "stream",
          "name": "stdout",
          "text": [
            "                Department  Gender   HSC   SSC                        Income  \\\n",
            "0  Business Administration    Male  4.17  4.84            Low (Below 15,000)   \n",
            "1  Business Administration  Female  4.92  5.00  Upper middle (30,000-50,000)   \n",
            "2  Business Administration    Male  5.00  4.83  Lower middle (15,000-30,000)   \n",
            "3  Business Administration    Male  4.00  4.50           High (Above 50,000)   \n",
            "4  Business Administration  Female  2.19  3.17  Lower middle (15,000-30,000)   \n",
            "\n",
            "  Hometown  Computer        Preparation             Gaming Attendance  ...  \\\n",
            "0  Village       3.0  More than 3 Hours           0-1 Hour   80%-100%  ...   \n",
            "1     City       3.0           0-1 Hour           0-1 Hour   80%-100%  ...   \n",
            "2  Village       3.0           0-1 Hour  More than 3 Hours   80%-100%  ...   \n",
            "3     City       5.0  More than 3 Hours  More than 3 Hours   80%-100%  ...   \n",
            "4  Village       3.0           0-1 Hour          2-3 Hours   80%-100%  ...   \n",
            "\n",
            "  Topic  Relation raisedhands VisITedResources  AnnouncementsView  Discussion  \\\n",
            "0   NaN       NaN         NaN              NaN                NaN         NaN   \n",
            "1   NaN       NaN         NaN              NaN                NaN         NaN   \n",
            "2   NaN       NaN         NaN              NaN                NaN         NaN   \n",
            "3   NaN       NaN         NaN              NaN                NaN         NaN   \n",
            "4   NaN       NaN         NaN              NaN                NaN         NaN   \n",
            "\n",
            "  ParentAnsweringSurvey ParentschoolSatisfaction StudentAbsenceDays Class  \n",
            "0                   NaN                      NaN                NaN   NaN  \n",
            "1                   NaN                      NaN                NaN   NaN  \n",
            "2                   NaN                      NaN                NaN   NaN  \n",
            "3                   NaN                      NaN                NaN   NaN  \n",
            "4                   NaN                      NaN                NaN   NaN  \n",
            "\n",
            "[5 rows x 69 columns]\n"
          ]
        }
      ],
      "source": [
        "import pandas as pd\n",
        "import glob\n",
        "\n",
        "csv_files = ['/content/drive/MyDrive/Student data/ResearchInformation3.csv', '/content/drive/MyDrive/Student data/StudentsPerformance.csv' , '/content/drive/MyDrive/Student data/Students_Performance_data_set.csv' , '/content/drive/MyDrive/Student data/datasets.csv' ]\n",
        "\n",
        "if isinstance(csv_files, str):\n",
        "    df = pd.read_csv(csv_files)\n",
        "else:\n",
        "    df_list = [pd.read_csv(file) for file in csv_files]\n",
        "    df = pd.concat(df_list, ignore_index=True)\n",
        "\n",
        "# Display the combined DataFrame\n",
        "print(df.head())"
      ]
    },
    {
      "cell_type": "markdown",
      "source": [
        " Calculate Attendance % and Categorize Students"
      ],
      "metadata": {
        "id": "LPOCgsCsa1QT"
      }
    },
    {
      "cell_type": "code",
      "source": [
        "import pandas as pd\n",
        "\n",
        "# Load the dataset\n",
        "df.columns = df.columns.str.strip().str.title()\n",
        "\n",
        "\n",
        "if 'Average Daily Study Time' in df.columns:\n",
        "    df['Average Daily Study Time'] = df['Average Daily Study Time'].fillna(df['Average Daily Study Time'].mean())\n",
        "\n",
        "if 'Study Method' in df.columns and 'Learning Preferences' in df.columns:\n",
        "    df.dropna(subset=['Study Method', 'Learning Preferences'], inplace=True)\n",
        "\n",
        "# Standardize categorical columns\n",
        "if 'Study Method' in df.columns:\n",
        "    df['Study Method'] = df['Study Method'].str.lower().str.strip()\n",
        "if 'Learning Preferences' in df.columns:\n",
        "    df['Learning Preferences'] = df['Learning Preferences'].str.title().str.strip()\n",
        "if 'Challenges Faced' in df.columns:\n",
        "    df['Challenges Faced'] = df['Challenges Faced'].str.lower().str.strip()\n",
        "\n",
        "# Validate and clean numeric columns\n",
        "if 'Stress Levels' in df.columns:\n",
        "    df['Stress Levels'] = pd.to_numeric(df['Stress Levels'], errors='coerce')\n",
        "    df = df[(df['Stress Levels'] >= 1) & (df['Stress Levels'] <= 10) | df['Stress Levels'].isna()]\n",
        "\n",
        "\n",
        "if 'Screen Time - Educational' in df.columns and 'Screen Time - Leisure' in df.columns:\n",
        "    df[['Screen Time - Educational', 'Screen Time - Leisure']] = df[['Screen Time - Educational', 'Screen Time - Leisure']].apply(pd.to_numeric, errors='coerce')\n",
        "\n",
        "# Inspecting summary statistics and distributions\n",
        "print(df.info())\n",
        "print(df.describe())\n",
        "\n",
        "if 'Study Method' in df.columns:\n",
        "    print(\"📊 Study Method Breakdown:\\n\", df['Study Method'].value_counts())\n",
        "if 'Learning Preferences' in df.columns:\n",
        "    print(\"🎯 Learning Preferences:\\n\", df['Learning Preferences'].value_counts())\n",
        "if 'Challenges Faced' in df.columns:\n",
        "    print(\"⚠️ Common Challenges:\\n\", df['Challenges Faced'].value_counts())"
      ],
      "metadata": {
        "colab": {
          "base_uri": "https://localhost:8080/"
        },
        "id": "TL8dv0PxeAew",
        "outputId": "3c26a2b6-584a-41e3-9dd3-7105b9a84ec9"
      },
      "execution_count": 300,
      "outputs": [
        {
          "output_type": "stream",
          "name": "stdout",
          "text": [
            "<class 'pandas.core.frame.DataFrame'>\n",
            "RangeIndex: 3167 entries, 0 to 3166\n",
            "Data columns (total 69 columns):\n",
            " #   Column                                                                     Non-Null Count  Dtype  \n",
            "---  ------                                                                     --------------  -----  \n",
            " 0   Department                                                                 493 non-null    object \n",
            " 1   Gender                                                                     1687 non-null   object \n",
            " 2   Hsc                                                                        493 non-null    float64\n",
            " 3   Ssc                                                                        493 non-null    float64\n",
            " 4   Income                                                                     493 non-null    object \n",
            " 5   Hometown                                                                   493 non-null    object \n",
            " 6   Computer                                                                   493 non-null    float64\n",
            " 7   Preparation                                                                493 non-null    object \n",
            " 8   Gaming                                                                     493 non-null    object \n",
            " 9   Attendance                                                                 493 non-null    object \n",
            " 10  Job                                                                        493 non-null    object \n",
            " 11  English                                                                    493 non-null    float64\n",
            " 12  Extra                                                                      493 non-null    object \n",
            " 13  Semester                                                                   973 non-null    object \n",
            " 14  Last                                                                       493 non-null    float64\n",
            " 15  Overall                                                                    493 non-null    float64\n",
            " 16  Gender                                                                     1480 non-null   object \n",
            " 17  Race/Ethnicity                                                             1000 non-null   object \n",
            " 18  Parental Level Of Education                                                1000 non-null   object \n",
            " 19  Lunch                                                                      1000 non-null   object \n",
            " 20  Test Preparation Course                                                    1000 non-null   object \n",
            " 21  Math Score                                                                 1000 non-null   float64\n",
            " 22  Reading Score                                                              1000 non-null   float64\n",
            " 23  Writing Score                                                              1000 non-null   float64\n",
            " 24  University Admission Year                                                  1194 non-null   float64\n",
            " 25  Age                                                                        1194 non-null   float64\n",
            " 26  H.S.C Passing Year                                                         1194 non-null   float64\n",
            " 27  Program                                                                    1194 non-null   object \n",
            " 28  Current Semester                                                           1194 non-null   float64\n",
            " 29  Do You Have Meritorious Scholarship ?                                      1194 non-null   object \n",
            " 30  Do You Use University Transportation?                                      1194 non-null   object \n",
            " 31  How Many Hour Do You Study Daily?                                          1194 non-null   float64\n",
            " 32  How Many Times Do You Seat For Study In A Day?                             1194 non-null   float64\n",
            " 33  What Is Your Preferable Learning Mode?                                     1194 non-null   object \n",
            " 34  Do You Use Smart Phone?                                                    1194 non-null   object \n",
            " 35  Do You Have Personal Computer?                                             1194 non-null   object \n",
            " 36  How Many Hour Do You Spent Daily In Social Media?                          1194 non-null   float64\n",
            " 37  Status Of Your English Language Proficiency                                1194 non-null   object \n",
            " 38  Average Attendance On Class                                                1194 non-null   object \n",
            " 39  Did You Ever Fall In Probation?                                            1194 non-null   object \n",
            " 40  Did You Ever Got Suspension?                                               1194 non-null   object \n",
            " 41  Do You Attend In Teacher Consultancy For Any Kind Of Academical Problems?  1194 non-null   object \n",
            " 42  What Are The Skills Do You Have ?                                          1193 non-null   object \n",
            " 43  How Many Hour Do You Spent Daily On Your Skill Development?                1194 non-null   float64\n",
            " 44  What Is You Interested Area?                                               1194 non-null   object \n",
            " 45  What Is Your Relationship Status?                                          1194 non-null   object \n",
            " 46  Are You Engaged With Any Co-Curriculum Activities?                         1194 non-null   object \n",
            " 47  With Whom You Are Living With?                                             1194 non-null   object \n",
            " 48  Do You Have Any Health Issues?                                             1194 non-null   object \n",
            " 49  What Was Your Previous Sgpa?                                               1194 non-null   float64\n",
            " 50  Do You Have Any Physical Disabilities?                                     1194 non-null   object \n",
            " 51  What Is Your Current Cgpa?                                                 1194 non-null   float64\n",
            " 52  How Many Credit Did You Have Completed?                                    1194 non-null   float64\n",
            " 53  What Is Your Monthly Family Income?                                        1194 non-null   float64\n",
            " 54  Nationality                                                                480 non-null    object \n",
            " 55  Placeofbirth                                                               480 non-null    object \n",
            " 56  Stageid                                                                    480 non-null    object \n",
            " 57  Gradeid                                                                    480 non-null    object \n",
            " 58  Sectionid                                                                  480 non-null    object \n",
            " 59  Topic                                                                      480 non-null    object \n",
            " 60  Relation                                                                   480 non-null    object \n",
            " 61  Raisedhands                                                                480 non-null    float64\n",
            " 62  Visitedresources                                                           480 non-null    float64\n",
            " 63  Announcementsview                                                          480 non-null    float64\n",
            " 64  Discussion                                                                 480 non-null    float64\n",
            " 65  Parentansweringsurvey                                                      480 non-null    object \n",
            " 66  Parentschoolsatisfaction                                                   480 non-null    object \n",
            " 67  Studentabsencedays                                                         480 non-null    object \n",
            " 68  Class                                                                      480 non-null    object \n",
            "dtypes: float64(25), object(44)\n",
            "memory usage: 1.7+ MB\n",
            "None\n",
            "              Hsc         Ssc    Computer     English        Last     Overall  \\\n",
            "count  493.000000  493.000000  493.000000  493.000000  493.000000  493.000000   \n",
            "mean     4.156775    4.767647    3.338742    3.569980    3.163888    3.188383   \n",
            "std      0.546504    0.349538    1.252988    0.870515    0.641475    0.591801   \n",
            "min      2.170000    3.000000    1.000000    1.000000    1.000000    1.000000   \n",
            "25%      3.830000    4.680000    3.000000    3.000000    2.810000    2.880000   \n",
            "50%      4.170000    4.940000    3.000000    4.000000    3.250000    3.270000   \n",
            "75%      4.500000    5.000000    4.000000    4.000000    3.670000    3.680000   \n",
            "max      5.000000    5.000000    5.000000    5.000000    4.000000    4.000000   \n",
            "\n",
            "       Math Score  Reading Score  Writing Score  University Admission Year  \\\n",
            "count  1000.00000    1000.000000    1000.000000                1194.000000   \n",
            "mean     66.08900      69.169000      68.054000                2020.515075   \n",
            "std      15.16308      14.600192      15.195657                   1.354954   \n",
            "min       0.00000      17.000000      10.000000                2013.000000   \n",
            "25%      57.00000      59.000000      57.750000                2020.000000   \n",
            "50%      66.00000      70.000000      69.000000                2021.000000   \n",
            "75%      77.00000      79.000000      79.000000                2022.000000   \n",
            "max     100.00000     100.000000     100.000000                2023.000000   \n",
            "\n",
            "       ...  How Many Hour Do You Spent Daily In Social Media?  \\\n",
            "count  ...                                        1194.000000   \n",
            "mean   ...                                           3.289782   \n",
            "std    ...                                           2.289547   \n",
            "min    ...                                           0.000000   \n",
            "25%    ...                                           2.000000   \n",
            "50%    ...                                           3.000000   \n",
            "75%    ...                                           4.000000   \n",
            "max    ...                                          20.000000   \n",
            "\n",
            "       How Many Hour Do You Spent Daily On Your Skill Development?  \\\n",
            "count                                        1194.000000             \n",
            "mean                                            2.185092             \n",
            "std                                             1.296101             \n",
            "min                                             0.000000             \n",
            "25%                                             1.000000             \n",
            "50%                                             2.000000             \n",
            "75%                                             3.000000             \n",
            "max                                            12.000000             \n",
            "\n",
            "       What Was Your Previous Sgpa?  What Is Your Current Cgpa?  \\\n",
            "count                   1194.000000                 1194.000000   \n",
            "mean                       2.683945                    3.165603   \n",
            "std                        0.871592                    0.750132   \n",
            "min                        0.000000                    0.000000   \n",
            "25%                        2.200000                    2.900000   \n",
            "50%                        2.680000                    3.210000   \n",
            "75%                        3.380000                    3.670000   \n",
            "max                        4.000000                    4.000000   \n",
            "\n",
            "       How Many Credit Did You Have Completed?  \\\n",
            "count                              1194.000000   \n",
            "mean                                 71.842546   \n",
            "std                                  48.074338   \n",
            "min                                   0.000000   \n",
            "25%                                  23.000000   \n",
            "50%                                  78.000000   \n",
            "75%                                 117.000000   \n",
            "max                                 145.000000   \n",
            "\n",
            "       What Is Your Monthly Family Income?  Raisedhands  Visitedresources  \\\n",
            "count                         1.194000e+03   480.000000        480.000000   \n",
            "mean                          6.248812e+04    46.775000         54.797917   \n",
            "std                           7.617356e+04    30.779223         33.080007   \n",
            "min                           4.000000e+03     0.000000          0.000000   \n",
            "25%                           3.000000e+04    15.750000         20.000000   \n",
            "50%                           5.000000e+04    50.000000         65.000000   \n",
            "75%                           7.400000e+04    75.000000         84.000000   \n",
            "max                           2.000000e+06   100.000000         99.000000   \n",
            "\n",
            "       Announcementsview  Discussion  \n",
            "count         480.000000  480.000000  \n",
            "mean           37.918750   43.283333  \n",
            "std            26.611244   27.637735  \n",
            "min             0.000000    1.000000  \n",
            "25%            14.000000   20.000000  \n",
            "50%            33.000000   39.000000  \n",
            "75%            58.000000   70.000000  \n",
            "max            98.000000   99.000000  \n",
            "\n",
            "[8 rows x 25 columns]\n"
          ]
        }
      ]
    },
    {
      "cell_type": "markdown",
      "source": [
        "#attended"
      ],
      "metadata": {
        "id": "RaVvpBGreVdW"
      }
    },
    {
      "cell_type": "code",
      "source": [
        "import pandas as pd\n",
        "\n",
        "df.columns = df.columns.str.strip().str.title()\n",
        "\n",
        "print(\"DataFrame 'df' is available. Need to identify columns for attendance calculation.\")"
      ],
      "metadata": {
        "colab": {
          "base_uri": "https://localhost:8080/"
        },
        "id": "pcwQIg5Ne4ZD",
        "outputId": "d6fdd98d-7610-42ea-8246-a0614652db37"
      },
      "execution_count": 301,
      "outputs": [
        {
          "output_type": "stream",
          "name": "stdout",
          "text": [
            "DataFrame 'df' is available. Need to identify columns for attendance calculation.\n"
          ]
        }
      ]
    },
    {
      "cell_type": "code",
      "source": [
        "[c for c in df.columns if 'attend' in c.lower() or 'class' in c.lower() or 'session' in c.lower()]\n"
      ],
      "metadata": {
        "colab": {
          "base_uri": "https://localhost:8080/"
        },
        "id": "B1tWz-4egIlI",
        "outputId": "16658aeb-e5d7-4be1-8d65-aac2c3b26ed3"
      },
      "execution_count": 302,
      "outputs": [
        {
          "output_type": "execute_result",
          "data": {
            "text/plain": [
              "['Attendance',\n",
              " 'Average Attendance On Class',\n",
              " 'Do You Attend In Teacher Consultancy For Any Kind Of Academical Problems?',\n",
              " 'Class']"
            ]
          },
          "metadata": {},
          "execution_count": 302
        }
      ]
    },
    {
      "cell_type": "code",
      "source": [
        "print(df.columns)\n"
      ],
      "metadata": {
        "colab": {
          "base_uri": "https://localhost:8080/"
        },
        "id": "4wue1-HNfj38",
        "outputId": "dc3aba15-8b33-4b42-c2a7-222c62e29472"
      },
      "execution_count": 303,
      "outputs": [
        {
          "output_type": "stream",
          "name": "stdout",
          "text": [
            "Index(['Department', 'Gender', 'Hsc', 'Ssc', 'Income', 'Hometown', 'Computer',\n",
            "       'Preparation', 'Gaming', 'Attendance', 'Job', 'English', 'Extra',\n",
            "       'Semester', 'Last', 'Overall', 'Gender', 'Race/Ethnicity',\n",
            "       'Parental Level Of Education', 'Lunch', 'Test Preparation Course',\n",
            "       'Math Score', 'Reading Score', 'Writing Score',\n",
            "       'University Admission Year', 'Age', 'H.S.C Passing Year', 'Program',\n",
            "       'Current Semester', 'Do You Have Meritorious Scholarship ?',\n",
            "       'Do You Use University Transportation?',\n",
            "       'How Many Hour Do You Study Daily?',\n",
            "       'How Many Times Do You Seat For Study In A Day?',\n",
            "       'What Is Your Preferable Learning Mode?', 'Do You Use Smart Phone?',\n",
            "       'Do You Have Personal Computer?',\n",
            "       'How Many Hour Do You Spent Daily In Social Media?',\n",
            "       'Status Of Your English Language Proficiency',\n",
            "       'Average Attendance On Class', 'Did You Ever Fall In Probation?',\n",
            "       'Did You Ever Got Suspension?',\n",
            "       'Do You Attend In Teacher Consultancy For Any Kind Of Academical Problems?',\n",
            "       'What Are The Skills Do You Have ?',\n",
            "       'How Many Hour Do You Spent Daily On Your Skill Development?',\n",
            "       'What Is You Interested Area?', 'What Is Your Relationship Status?',\n",
            "       'Are You Engaged With Any Co-Curriculum Activities?',\n",
            "       'With Whom You Are Living With?', 'Do You Have Any Health Issues?',\n",
            "       'What Was Your Previous Sgpa?',\n",
            "       'Do You Have Any Physical Disabilities?', 'What Is Your Current Cgpa?',\n",
            "       'How Many Credit Did You Have Completed?',\n",
            "       'What Is Your Monthly Family Income?', 'Nationality', 'Placeofbirth',\n",
            "       'Stageid', 'Gradeid', 'Sectionid', 'Topic', 'Relation', 'Raisedhands',\n",
            "       'Visitedresources', 'Announcementsview', 'Discussion',\n",
            "       'Parentansweringsurvey', 'Parentschoolsatisfaction',\n",
            "       'Studentabsencedays', 'Class'],\n",
            "      dtype='object')\n"
          ]
        }
      ]
    },
    {
      "cell_type": "code",
      "source": [
        "# Convert Attendance to numeric\n",
        "df['Attendance'] = pd.to_numeric(df['Attendance'], errors='coerce')\n",
        "\n",
        "# Now calculate percentage and category\n",
        "df['Attendance %'] = (df['Attendance'] / 9) * 100\n",
        "\n",
        "def categorize_attendance(percent):\n",
        "    if percent >= 90:\n",
        "        return 'Excellent'\n",
        "    elif percent >= 75:\n",
        "        return 'Good'\n",
        "    elif percent >= 60:\n",
        "        return 'Average'\n",
        "    else:\n",
        "        return 'Poor'\n",
        "\n",
        "df['Attendance Category'] = df['Attendance %'].apply(categorize_attendance)\n",
        "\n",
        "# Preview result\n",
        "print(df[['Attendance', 'Attendance %', 'Attendance Category']].head())\n"
      ],
      "metadata": {
        "colab": {
          "base_uri": "https://localhost:8080/"
        },
        "id": "asZ62jg9gpvC",
        "outputId": "14e10f44-1408-4073-b330-b697bf31134b"
      },
      "execution_count": 304,
      "outputs": [
        {
          "output_type": "stream",
          "name": "stdout",
          "text": [
            "   Attendance  Attendance % Attendance Category\n",
            "0         NaN           NaN                Poor\n",
            "1         NaN           NaN                Poor\n",
            "2         NaN           NaN                Poor\n",
            "3         NaN           NaN                Poor\n",
            "4         NaN           NaN                Poor\n"
          ]
        }
      ]
    },
    {
      "cell_type": "code",
      "source": [
        "import pandas as pd\n",
        "\n",
        "# Assuming 'Attendance' column has values like number of classes attended (e.g., 7 out of 9)\n",
        "df['Attendance %'] = (df['Attendance'] / 9) * 100\n",
        "\n",
        "# Categorize Attendance\n",
        "def categorize_attendance(percent):\n",
        "    if percent >= 90:\n",
        "        return 'Excellent'\n",
        "    elif percent >= 75:\n",
        "        return 'Good'\n",
        "    elif percent >= 60:\n",
        "        return 'Average'\n",
        "    else:\n",
        "        return 'Poor'\n",
        "\n",
        "df['Attendance Category'] = df['Attendance %'].apply(categorize_attendance)\n",
        "\n",
        "# Quick preview\n",
        "print(df[['Attendance', 'Attendance %', 'Attendance Category']].head())\n"
      ],
      "metadata": {
        "colab": {
          "base_uri": "https://localhost:8080/"
        },
        "id": "CRqw5evAgdLq",
        "outputId": "ed6c80de-631e-4cc1-eb99-f0f0a638083d"
      },
      "execution_count": 305,
      "outputs": [
        {
          "output_type": "stream",
          "name": "stdout",
          "text": [
            "   Attendance  Attendance % Attendance Category\n",
            "0         NaN           NaN                Poor\n",
            "1         NaN           NaN                Poor\n",
            "2         NaN           NaN                Poor\n",
            "3         NaN           NaN                Poor\n",
            "4         NaN           NaN                Poor\n"
          ]
        }
      ]
    },
    {
      "cell_type": "markdown",
      "source": [
        "#Display the Data Table"
      ],
      "metadata": {
        "id": "gRZJmJcWg6tf"
      }
    },
    {
      "cell_type": "code",
      "source": [
        "\n",
        "df.columns = df.columns.str.strip().str.title()\n",
        "print(df.head())"
      ],
      "metadata": {
        "colab": {
          "base_uri": "https://localhost:8080/"
        },
        "id": "LayFDR_Egydl",
        "outputId": "03babb86-296f-4c3a-d71a-4a772847bc47"
      },
      "execution_count": 306,
      "outputs": [
        {
          "output_type": "stream",
          "name": "stdout",
          "text": [
            "                Department  Gender   Hsc   Ssc                        Income  \\\n",
            "0  Business Administration    Male  4.17  4.84            Low (Below 15,000)   \n",
            "1  Business Administration  Female  4.92  5.00  Upper middle (30,000-50,000)   \n",
            "2  Business Administration    Male  5.00  4.83  Lower middle (15,000-30,000)   \n",
            "3  Business Administration    Male  4.00  4.50           High (Above 50,000)   \n",
            "4  Business Administration  Female  2.19  3.17  Lower middle (15,000-30,000)   \n",
            "\n",
            "  Hometown  Computer        Preparation             Gaming  Attendance  ...  \\\n",
            "0  Village       3.0  More than 3 Hours           0-1 Hour         NaN  ...   \n",
            "1     City       3.0           0-1 Hour           0-1 Hour         NaN  ...   \n",
            "2  Village       3.0           0-1 Hour  More than 3 Hours         NaN  ...   \n",
            "3     City       5.0  More than 3 Hours  More than 3 Hours         NaN  ...   \n",
            "4  Village       3.0           0-1 Hour          2-3 Hours         NaN  ...   \n",
            "\n",
            "  Raisedhands  Visitedresources Announcementsview Discussion  \\\n",
            "0         NaN               NaN               NaN        NaN   \n",
            "1         NaN               NaN               NaN        NaN   \n",
            "2         NaN               NaN               NaN        NaN   \n",
            "3         NaN               NaN               NaN        NaN   \n",
            "4         NaN               NaN               NaN        NaN   \n",
            "\n",
            "   Parentansweringsurvey  Parentschoolsatisfaction Studentabsencedays Class  \\\n",
            "0                    NaN                       NaN                NaN   NaN   \n",
            "1                    NaN                       NaN                NaN   NaN   \n",
            "2                    NaN                       NaN                NaN   NaN   \n",
            "3                    NaN                       NaN                NaN   NaN   \n",
            "4                    NaN                       NaN                NaN   NaN   \n",
            "\n",
            "  Attendance % Attendance Category  \n",
            "0          NaN                Poor  \n",
            "1          NaN                Poor  \n",
            "2          NaN                Poor  \n",
            "3          NaN                Poor  \n",
            "4          NaN                Poor  \n",
            "\n",
            "[5 rows x 71 columns]\n"
          ]
        }
      ]
    },
    {
      "cell_type": "code",
      "source": [
        "df.rename(columns={\n",
        "    'Student Name': 'Name',\n",
        "    'Student ID': 'ID'\n",
        "}, inplace=True)\n"
      ],
      "metadata": {
        "id": "MeoptHi1hokS"
      },
      "execution_count": 307,
      "outputs": []
    },
    {
      "cell_type": "code",
      "source": [
        "print(df.columns.tolist())\n"
      ],
      "metadata": {
        "colab": {
          "base_uri": "https://localhost:8080/"
        },
        "id": "d6W0i_Dwh7Y9",
        "outputId": "6c73494f-3bc5-4d93-b566-979339844bf2"
      },
      "execution_count": 308,
      "outputs": [
        {
          "output_type": "stream",
          "name": "stdout",
          "text": [
            "['Department', 'Gender', 'Hsc', 'Ssc', 'Income', 'Hometown', 'Computer', 'Preparation', 'Gaming', 'Attendance', 'Job', 'English', 'Extra', 'Semester', 'Last', 'Overall', 'Gender', 'Race/Ethnicity', 'Parental Level Of Education', 'Lunch', 'Test Preparation Course', 'Math Score', 'Reading Score', 'Writing Score', 'University Admission Year', 'Age', 'H.S.C Passing Year', 'Program', 'Current Semester', 'Do You Have Meritorious Scholarship ?', 'Do You Use University Transportation?', 'How Many Hour Do You Study Daily?', 'How Many Times Do You Seat For Study In A Day?', 'What Is Your Preferable Learning Mode?', 'Do You Use Smart Phone?', 'Do You Have Personal Computer?', 'How Many Hour Do You Spent Daily In Social Media?', 'Status Of Your English Language Proficiency', 'Average Attendance On Class', 'Did You Ever Fall In Probation?', 'Did You Ever Got Suspension?', 'Do You Attend In Teacher Consultancy For Any Kind Of Academical Problems?', 'What Are The Skills Do You Have ?', 'How Many Hour Do You Spent Daily On Your Skill Development?', 'What Is You Interested Area?', 'What Is Your Relationship Status?', 'Are You Engaged With Any Co-Curriculum Activities?', 'With Whom You Are Living With?', 'Do You Have Any Health Issues?', 'What Was Your Previous Sgpa?', 'Do You Have Any Physical Disabilities?', 'What Is Your Current Cgpa?', 'How Many Credit Did You Have Completed?', 'What Is Your Monthly Family Income?', 'Nationality', 'Placeofbirth', 'Stageid', 'Gradeid', 'Sectionid', 'Topic', 'Relation', 'Raisedhands', 'Visitedresources', 'Announcementsview', 'Discussion', 'Parentansweringsurvey', 'Parentschoolsatisfaction', 'Studentabsencedays', 'Class', 'Attendance %', 'Attendance Category']\n"
          ]
        }
      ]
    },
    {
      "cell_type": "code",
      "source": [
        "print(df.columns.tolist())\n"
      ],
      "metadata": {
        "colab": {
          "base_uri": "https://localhost:8080/"
        },
        "id": "ASI02l3-i6YQ",
        "outputId": "0676b16c-c59c-48f4-a2d3-e58b1b441169"
      },
      "execution_count": 309,
      "outputs": [
        {
          "output_type": "stream",
          "name": "stdout",
          "text": [
            "['Department', 'Gender', 'Hsc', 'Ssc', 'Income', 'Hometown', 'Computer', 'Preparation', 'Gaming', 'Attendance', 'Job', 'English', 'Extra', 'Semester', 'Last', 'Overall', 'Gender', 'Race/Ethnicity', 'Parental Level Of Education', 'Lunch', 'Test Preparation Course', 'Math Score', 'Reading Score', 'Writing Score', 'University Admission Year', 'Age', 'H.S.C Passing Year', 'Program', 'Current Semester', 'Do You Have Meritorious Scholarship ?', 'Do You Use University Transportation?', 'How Many Hour Do You Study Daily?', 'How Many Times Do You Seat For Study In A Day?', 'What Is Your Preferable Learning Mode?', 'Do You Use Smart Phone?', 'Do You Have Personal Computer?', 'How Many Hour Do You Spent Daily In Social Media?', 'Status Of Your English Language Proficiency', 'Average Attendance On Class', 'Did You Ever Fall In Probation?', 'Did You Ever Got Suspension?', 'Do You Attend In Teacher Consultancy For Any Kind Of Academical Problems?', 'What Are The Skills Do You Have ?', 'How Many Hour Do You Spent Daily On Your Skill Development?', 'What Is You Interested Area?', 'What Is Your Relationship Status?', 'Are You Engaged With Any Co-Curriculum Activities?', 'With Whom You Are Living With?', 'Do You Have Any Health Issues?', 'What Was Your Previous Sgpa?', 'Do You Have Any Physical Disabilities?', 'What Is Your Current Cgpa?', 'How Many Credit Did You Have Completed?', 'What Is Your Monthly Family Income?', 'Nationality', 'Placeofbirth', 'Stageid', 'Gradeid', 'Sectionid', 'Topic', 'Relation', 'Raisedhands', 'Visitedresources', 'Announcementsview', 'Discussion', 'Parentansweringsurvey', 'Parentschoolsatisfaction', 'Studentabsencedays', 'Class', 'Attendance %', 'Attendance Category']\n"
          ]
        }
      ]
    },
    {
      "cell_type": "code",
      "source": [
        "['Full Name', 'ID Number', 'Classes Attended', 'Class Total']\n"
      ],
      "metadata": {
        "colab": {
          "base_uri": "https://localhost:8080/"
        },
        "id": "GaXhUnbci89z",
        "outputId": "644f95c5-cc32-4e09-931c-1d06ef403db8"
      },
      "execution_count": 310,
      "outputs": [
        {
          "output_type": "execute_result",
          "data": {
            "text/plain": [
              "['Full Name', 'ID Number', 'Classes Attended', 'Class Total']"
            ]
          },
          "metadata": {},
          "execution_count": 310
        }
      ]
    },
    {
      "cell_type": "code",
      "source": [
        "df.rename(columns={\n",
        "    'Full Name': 'Name',\n",
        "    'ID Number': 'ID',\n",
        "    'Classes Attended': 'Attended Classes',\n",
        "    'Class Total': 'Total Classes'\n",
        "}, inplace=True)\n"
      ],
      "metadata": {
        "id": "pt82Ck5ljR6v"
      },
      "execution_count": 311,
      "outputs": []
    },
    {
      "cell_type": "code",
      "source": [
        "print(df.columns.tolist())\n"
      ],
      "metadata": {
        "colab": {
          "base_uri": "https://localhost:8080/"
        },
        "id": "jcB63n-8jTdf",
        "outputId": "670436aa-8cbf-41c2-8db3-f84bd92fa4e0"
      },
      "execution_count": 312,
      "outputs": [
        {
          "output_type": "stream",
          "name": "stdout",
          "text": [
            "['Department', 'Gender', 'Hsc', 'Ssc', 'Income', 'Hometown', 'Computer', 'Preparation', 'Gaming', 'Attendance', 'Job', 'English', 'Extra', 'Semester', 'Last', 'Overall', 'Gender', 'Race/Ethnicity', 'Parental Level Of Education', 'Lunch', 'Test Preparation Course', 'Math Score', 'Reading Score', 'Writing Score', 'University Admission Year', 'Age', 'H.S.C Passing Year', 'Program', 'Current Semester', 'Do You Have Meritorious Scholarship ?', 'Do You Use University Transportation?', 'How Many Hour Do You Study Daily?', 'How Many Times Do You Seat For Study In A Day?', 'What Is Your Preferable Learning Mode?', 'Do You Use Smart Phone?', 'Do You Have Personal Computer?', 'How Many Hour Do You Spent Daily In Social Media?', 'Status Of Your English Language Proficiency', 'Average Attendance On Class', 'Did You Ever Fall In Probation?', 'Did You Ever Got Suspension?', 'Do You Attend In Teacher Consultancy For Any Kind Of Academical Problems?', 'What Are The Skills Do You Have ?', 'How Many Hour Do You Spent Daily On Your Skill Development?', 'What Is You Interested Area?', 'What Is Your Relationship Status?', 'Are You Engaged With Any Co-Curriculum Activities?', 'With Whom You Are Living With?', 'Do You Have Any Health Issues?', 'What Was Your Previous Sgpa?', 'Do You Have Any Physical Disabilities?', 'What Is Your Current Cgpa?', 'How Many Credit Did You Have Completed?', 'What Is Your Monthly Family Income?', 'Nationality', 'Placeofbirth', 'Stageid', 'Gradeid', 'Sectionid', 'Topic', 'Relation', 'Raisedhands', 'Visitedresources', 'Announcementsview', 'Discussion', 'Parentansweringsurvey', 'Parentschoolsatisfaction', 'Studentabsencedays', 'Class', 'Attendance %', 'Attendance Category']\n"
          ]
        }
      ]
    },
    {
      "cell_type": "markdown",
      "source": [],
      "metadata": {
        "id": "tIUEI-8skF0R"
      }
    },
    {
      "cell_type": "code",
      "source": [
        "!pip install pyngrok\n",
        "from pyngrok import ngrok\n",
        "import threading\n",
        "\n",
        "# Open a tunnel for Dash app\n",
        "def run_dash():\n",
        "    app.run_server(port=8050)\n",
        "\n",
        "threading.Thread(target=run_dash).start()\n"
      ],
      "metadata": {
        "colab": {
          "base_uri": "https://localhost:8080/"
        },
        "id": "jxUB7oiNknLe",
        "outputId": "86be53b6-0e38-4f6c-95d3-84bd1d6e41f3"
      },
      "execution_count": 313,
      "outputs": [
        {
          "output_type": "stream",
          "name": "stdout",
          "text": [
            "Requirement already satisfied: pyngrok in /usr/local/lib/python3.11/dist-packages (7.2.12)\n",
            "Requirement already satisfied: PyYAML>=5.1 in /usr/local/lib/python3.11/dist-packages (from pyngrok) (6.0.2)\n"
          ]
        },
        {
          "output_type": "stream",
          "name": "stderr",
          "text": [
            "Exception in thread Thread-6862 (run_dash):\n",
            "Traceback (most recent call last):\n",
            "  File \"/usr/lib/python3.11/threading.py\", line 1045, in _bootstrap_inner\n",
            "    self.run()\n",
            "  File \"/usr/lib/python3.11/threading.py\", line 982, in run\n",
            "    self._target(*self._args, **self._kwargs)\n",
            "  File \"/tmp/ipython-input-2114413977.py\", line 7, in run_dash\n"
          ]
        }
      ]
    },
    {
      "cell_type": "code",
      "metadata": {
        "colab": {
          "base_uri": "https://localhost:8080/"
        },
        "id": "f1ee0b37",
        "outputId": "1a50a848-27ff-41c4-a7bb-93f37e05747b"
      },
      "source": [
        "!pip install dash"
      ],
      "execution_count": 314,
      "outputs": [
        {
          "output_type": "stream",
          "name": "stderr",
          "text": [
            "  File \"/usr/local/lib/python3.11/dist-packages/dash/_obsolete.py\", line 22, in __getattr__\n",
            "    raise err.exc(err.message)\n",
            "dash.exceptions.ObsoleteAttributeException: app.run_server has been replaced by app.run\n"
          ]
        },
        {
          "output_type": "stream",
          "name": "stdout",
          "text": [
            "Requirement already satisfied: dash in /usr/local/lib/python3.11/dist-packages (3.2.0)\n",
            "Requirement already satisfied: Flask<3.2,>=1.0.4 in /usr/local/lib/python3.11/dist-packages (from dash) (3.1.1)\n",
            "Requirement already satisfied: Werkzeug<3.2 in /usr/local/lib/python3.11/dist-packages (from dash) (3.1.3)\n",
            "Requirement already satisfied: plotly>=5.0.0 in /usr/local/lib/python3.11/dist-packages (from dash) (5.24.1)\n",
            "Requirement already satisfied: importlib-metadata in /usr/local/lib/python3.11/dist-packages (from dash) (8.7.0)\n",
            "Requirement already satisfied: typing-extensions>=4.1.1 in /usr/local/lib/python3.11/dist-packages (from dash) (4.14.1)\n",
            "Requirement already satisfied: requests in /usr/local/lib/python3.11/dist-packages (from dash) (2.32.3)\n",
            "Requirement already satisfied: retrying in /usr/local/lib/python3.11/dist-packages (from dash) (1.4.1)\n",
            "Requirement already satisfied: nest-asyncio in /usr/local/lib/python3.11/dist-packages (from dash) (1.6.0)\n",
            "Requirement already satisfied: setuptools in /usr/local/lib/python3.11/dist-packages (from dash) (75.2.0)\n",
            "Requirement already satisfied: blinker>=1.9.0 in /usr/local/lib/python3.11/dist-packages (from Flask<3.2,>=1.0.4->dash) (1.9.0)\n",
            "Requirement already satisfied: click>=8.1.3 in /usr/local/lib/python3.11/dist-packages (from Flask<3.2,>=1.0.4->dash) (8.2.1)\n",
            "Requirement already satisfied: itsdangerous>=2.2.0 in /usr/local/lib/python3.11/dist-packages (from Flask<3.2,>=1.0.4->dash) (2.2.0)\n",
            "Requirement already satisfied: jinja2>=3.1.2 in /usr/local/lib/python3.11/dist-packages (from Flask<3.2,>=1.0.4->dash) (3.1.6)\n",
            "Requirement already satisfied: markupsafe>=2.1.1 in /usr/local/lib/python3.11/dist-packages (from Flask<3.2,>=1.0.4->dash) (3.0.2)\n",
            "Requirement already satisfied: tenacity>=6.2.0 in /usr/local/lib/python3.11/dist-packages (from plotly>=5.0.0->dash) (8.5.0)\n",
            "Requirement already satisfied: packaging in /usr/local/lib/python3.11/dist-packages (from plotly>=5.0.0->dash) (25.0)\n",
            "Requirement already satisfied: zipp>=3.20 in /usr/local/lib/python3.11/dist-packages (from importlib-metadata->dash) (3.23.0)\n",
            "Requirement already satisfied: charset-normalizer<4,>=2 in /usr/local/lib/python3.11/dist-packages (from requests->dash) (3.4.2)\n",
            "Requirement already satisfied: idna<4,>=2.5 in /usr/local/lib/python3.11/dist-packages (from requests->dash) (3.10)\n",
            "Requirement already satisfied: urllib3<3,>=1.21.1 in /usr/local/lib/python3.11/dist-packages (from requests->dash) (2.5.0)\n",
            "Requirement already satisfied: certifi>=2017.4.17 in /usr/local/lib/python3.11/dist-packages (from requests->dash) (2025.7.14)\n"
          ]
        }
      ]
    },
    {
      "cell_type": "code",
      "source": [
        "import dash\n",
        "from dash import html, dash_table\n",
        "import pandas as pd\n",
        "\n",
        "# Sample DataFrame (use your cleaned version here)\n",
        "df = pd.DataFrame({\n",
        "    'Student Name': ['Amit', 'Riya', 'Zoya', 'Kunal'],\n",
        "    'Student ID': [101, 102, 103, 104],\n",
        "    'Total Classes': [9, 9, 9, 9],\n",
        "    'Attended Classes': [8, 6, 9, 5]\n",
        "})\n",
        "\n",
        "# Calculate attendance percentage and category\n",
        "df['Attendance %'] = (df['Attended Classes'] / df['Total Classes']) * 100\n",
        "\n",
        "def categorize_attendance(percent):\n",
        "    if percent >= 90:\n",
        "        return 'Excellent'\n",
        "    elif percent >= 75:\n",
        "        return 'Good'\n",
        "    elif percent >= 60:\n",
        "        return 'Average'\n",
        "    else:\n",
        "        return 'Poor'\n",
        "\n",
        "df['Attendance Category'] = df['Attendance %'].apply(categorize_attendance)\n",
        "\n",
        "# Initialize Dash app\n",
        "app = dash.Dash(__name__)\n",
        "\n",
        "app.layout = html.Div([\n",
        "    html.H2(\"📋 Student Attendance Table\"),\n",
        "    dash_table.DataTable(\n",
        "        columns=[{\"name\": col, \"id\": col} for col in df.columns],\n",
        "        data=df.to_dict('records'),\n",
        "        style_table={'overflowX': 'auto'},\n",
        "        style_cell={'textAlign': 'center', 'padding': '8px'},\n",
        "        style_header={\n",
        "            'backgroundColor': '#f0f0f0',\n",
        "            'fontWeight': 'bold'\n",
        "        },\n",
        "        style_data_conditional=[\n",
        "            {\n",
        "                'if': {\n",
        "                    'filter_query': '{Attendance Category} = \"Poor\"',\n",
        "                    'column_id': 'Attendance Category'\n",
        "                },\n",
        "                'backgroundColor': '#ffe6e6',\n",
        "                'color': 'red'\n",
        "            },\n",
        "            {\n",
        "                'if': {\n",
        "                    'filter_query': '{Attendance Category} = \"Excellent\"',\n",
        "                    'column_id': 'Attendance Category'\n",
        "                },\n",
        "                'backgroundColor': '#e6ffe6',\n",
        "                'color': 'green'\n",
        "            },\n",
        "        ]\n",
        "    )\n",
        "])\n",
        "\n",
        "if __name__ == '__main__':\n",
        "    app.run(debug=True)"
      ],
      "metadata": {
        "colab": {
          "base_uri": "https://localhost:8080/",
          "height": 672
        },
        "id": "lJWuaAJGjomY",
        "outputId": "e9cb6348-6fb1-48a8-f2ac-78cee697c3e2"
      },
      "execution_count": 315,
      "outputs": [
        {
          "output_type": "display_data",
          "data": {
            "text/plain": [
              "<IPython.core.display.Javascript object>"
            ],
            "application/javascript": [
              "(async (port, path, width, height, cache, element) => {\n",
              "    if (!google.colab.kernel.accessAllowed && !cache) {\n",
              "      return;\n",
              "    }\n",
              "    element.appendChild(document.createTextNode(''));\n",
              "    const url = await google.colab.kernel.proxyPort(port, {cache});\n",
              "    const iframe = document.createElement('iframe');\n",
              "    iframe.src = new URL(path, url).toString();\n",
              "    iframe.height = height;\n",
              "    iframe.width = width;\n",
              "    iframe.style.border = 0;\n",
              "    iframe.allow = [\n",
              "        'accelerometer',\n",
              "        'autoplay',\n",
              "        'camera',\n",
              "        'clipboard-read',\n",
              "        'clipboard-write',\n",
              "        'gyroscope',\n",
              "        'magnetometer',\n",
              "        'microphone',\n",
              "        'serial',\n",
              "        'usb',\n",
              "        'xr-spatial-tracking',\n",
              "    ].join('; ');\n",
              "    element.appendChild(iframe);\n",
              "  })(8050, \"/\", \"100%\", 650, false, window.element)"
            ]
          },
          "metadata": {}
        }
      ]
    },
    {
      "cell_type": "code",
      "metadata": {
        "colab": {
          "base_uri": "https://localhost:8080/"
        },
        "id": "6d67da4f",
        "outputId": "b703c45f-c3a9-4a04-a548-591b4b5a21d5"
      },
      "source": [
        "from pyngrok import ngrok\n",
        "import os\n",
        "\n",
        "\n",
        "ngrok.set_auth_token(\"YOUR_AUTHTOKEN\")\n",
        "\n",
        "print(\"Ngrok authtoken set.\")"
      ],
      "execution_count": 316,
      "outputs": [
        {
          "output_type": "stream",
          "name": "stdout",
          "text": [
            "Ngrok authtoken set.\n"
          ]
        }
      ]
    },
    {
      "cell_type": "code",
      "source": [
        "import dash\n",
        "from dash import html, dash_table\n",
        "import pandas as pd\n",
        "\n",
        "# Sample DataFrame\n",
        "df = pd.DataFrame({\n",
        "    'Student Name': ['Amit', 'Riya', 'Zoya', 'Kunal'],\n",
        "    'Student ID': [101, 102, 103, 104],\n",
        "    'Avg Study Time (hrs/day)': [3.5, 2, 4, 1.5],\n",
        "    'Study Method': ['Group', 'Self', 'Online', 'Group'],\n",
        "    'Screen Time (Edu/Leisure)': ['2 / 1.5', '1 / 2.5', '2.5 / 1', '1 / 3'],\n",
        "    'Stress Level (1–10)': [6, 7, 4, 8],\n",
        "    'Learning Preference': ['Visual', 'Reading/Writing', 'Kinesthetic', 'Auditory'],\n",
        "    'Challenges Faced': ['Time management', 'Lack of resources', 'Procrastination', 'Multiple'],\n",
        "    'Attended Classes': [8, 6, 9, 5],\n",
        "    'Total Classes': [9, 9, 9, 9]\n",
        "})\n",
        "\n",
        "# Calculate attendance percentage and category\n",
        "df['Attendance %'] = (df['Attended Classes'] / df['Total Classes']) * 100\n",
        "\n",
        "def categorize_attendance(p):\n",
        "    if p >= 90:\n",
        "        return 'Excellent'\n",
        "    elif p >= 75:\n",
        "        return 'Good'\n",
        "    elif p >= 60:\n",
        "        return 'Average'\n",
        "    else:\n",
        "        return 'Poor'\n",
        "\n",
        "df['Category'] = df['Attendance %'].apply(categorize_attendance)\n",
        "\n",
        "# Initialize Dash app\n",
        "app = dash.Dash(__name__)\n",
        "app.layout = html.Div([\n",
        "    html.H3(\"📋 Student Survey Dashboard\"),\n",
        "    dash_table.DataTable(\n",
        "        columns=[{\"name\": col, \"id\": col} for col in df.columns],\n",
        "        data=df.to_dict('records'),\n",
        "        style_table={'overflowX': 'auto'},\n",
        "        style_cell={'textAlign': 'center', 'padding': '5px'},\n",
        "        style_header={'backgroundColor': '#e0e0e0', 'fontWeight': 'bold'},\n",
        "        style_data_conditional=[\n",
        "            {\n",
        "                'if': {'filter_query': '{Category} = \"Excellent\"', 'column_id': 'Category'},\n",
        "                'backgroundColor': '#e6ffe6',\n",
        "                'color': 'green'\n",
        "            },\n",
        "            {\n",
        "                'if': {'filter_query': '{Category} = \"Poor\"', 'column_id': 'Category'},\n",
        "                'backgroundColor': '#ffe6e6',\n",
        "                'color': 'red'\n",
        "            }\n",
        "        ]\n",
        "    )\n",
        "])\n",
        "\n",
        "if __name__ == '__main__':\n",
        "    app.run(debug=True)"
      ],
      "metadata": {
        "colab": {
          "base_uri": "https://localhost:8080/",
          "height": 672
        },
        "id": "Vno7qV1slvVO",
        "outputId": "57e899f5-b541-4f5c-e963-cb9183810600"
      },
      "execution_count": 317,
      "outputs": [
        {
          "output_type": "display_data",
          "data": {
            "text/plain": [
              "<IPython.core.display.Javascript object>"
            ],
            "application/javascript": [
              "(async (port, path, width, height, cache, element) => {\n",
              "    if (!google.colab.kernel.accessAllowed && !cache) {\n",
              "      return;\n",
              "    }\n",
              "    element.appendChild(document.createTextNode(''));\n",
              "    const url = await google.colab.kernel.proxyPort(port, {cache});\n",
              "    const iframe = document.createElement('iframe');\n",
              "    iframe.src = new URL(path, url).toString();\n",
              "    iframe.height = height;\n",
              "    iframe.width = width;\n",
              "    iframe.style.border = 0;\n",
              "    iframe.allow = [\n",
              "        'accelerometer',\n",
              "        'autoplay',\n",
              "        'camera',\n",
              "        'clipboard-read',\n",
              "        'clipboard-write',\n",
              "        'gyroscope',\n",
              "        'magnetometer',\n",
              "        'microphone',\n",
              "        'serial',\n",
              "        'usb',\n",
              "        'xr-spatial-tracking',\n",
              "    ].join('; ');\n",
              "    element.appendChild(iframe);\n",
              "  })(8050, \"/\", \"100%\", 650, false, window.element)"
            ]
          },
          "metadata": {}
        }
      ]
    },
    {
      "cell_type": "markdown",
      "source": [
        "# Create Visualizations"
      ],
      "metadata": {
        "id": "4vDKHCjNoHwi"
      }
    },
    {
      "cell_type": "code",
      "source": [],
      "metadata": {
        "id": "izAkGRdqoN0G"
      },
      "execution_count": 317,
      "outputs": []
    },
    {
      "cell_type": "markdown",
      "source": [
        ". Attendance vs. Study Time"
      ],
      "metadata": {
        "id": "bISkNTdJoVqK"
      }
    },
    {
      "cell_type": "code",
      "source": [
        "print(df.columns.tolist())\n"
      ],
      "metadata": {
        "colab": {
          "base_uri": "https://localhost:8080/"
        },
        "id": "h56ASj7borjC",
        "outputId": "5f94ad4e-c646-41b1-e439-dc602bc05c2a"
      },
      "execution_count": 318,
      "outputs": [
        {
          "output_type": "stream",
          "name": "stdout",
          "text": [
            "['Student Name', 'Student ID', 'Avg Study Time (hrs/day)', 'Study Method', 'Screen Time (Edu/Leisure)', 'Stress Level (1–10)', 'Learning Preference', 'Challenges Faced', 'Attended Classes', 'Total Classes', 'Attendance %', 'Category']\n"
          ]
        }
      ]
    },
    {
      "cell_type": "markdown",
      "source": [
        "**Screen Time (Leisure) vs. Stress**"
      ],
      "metadata": {
        "id": "K1CqJ67io8oq"
      }
    },
    {
      "cell_type": "code",
      "source": [
        "# Split screen time into two columns\n",
        "df[['Edu Screen Time', 'Leisure Screen Time']] = df['Screen Time (Edu/Leisure)'].str.split('/', expand=True)\n",
        "\n",
        "# Convert to numeric\n",
        "df['Edu Screen Time'] = pd.to_numeric(df['Edu Screen Time'], errors='coerce')\n",
        "df['Leisure Screen Time'] = pd.to_numeric(df['Leisure Screen Time'], errors='coerce')\n"
      ],
      "metadata": {
        "id": "Fd8jxNWzpfIX"
      },
      "execution_count": 319,
      "outputs": []
    },
    {
      "cell_type": "code",
      "source": [
        "# Categorize leisure screen time\n",
        "def categorize_leisure_time(hours):\n",
        "    if pd.isna(hours):\n",
        "        return 'Unknown'\n",
        "    elif hours > 3:\n",
        "        return 'High'\n",
        "    elif hours > 1.5:\n",
        "        return 'Moderate'\n",
        "    else:\n",
        "        return 'Low'\n",
        "\n",
        "df['Leisure Time Category'] = df['Leisure Screen Time'].apply(categorize_leisure_time)\n",
        "\n",
        "# Fix stress column name\n",
        "df['Stress Level (1–10)'] = pd.to_numeric(df['Stress Level (1–10)'], errors='coerce')\n",
        "\n",
        "# Plot average stress by leisure screen time category\n",
        "stress_screen = df.groupby('Leisure Time Category')['Stress Level (1–10)'].mean().reset_index()\n",
        "\n",
        "import seaborn as sns\n",
        "import matplotlib.pyplot as plt\n",
        "\n",
        "sns.barplot(data=stress_screen, x='Leisure Time Category', y='Stress Level (1–10)', palette='Reds')\n",
        "plt.title('📱 Average Stress by Leisure Screen Time')\n",
        "plt.ylabel('Average Stress Level (1–10)')\n",
        "plt.xlabel('Leisure Screen Time Category')\n",
        "plt.tight_layout()\n",
        "plt.show()\n"
      ],
      "metadata": {
        "colab": {
          "base_uri": "https://localhost:8080/",
          "height": 767
        },
        "id": "_NF_KwLHpgfm",
        "outputId": "e4525c72-6040-4797-99e5-a237b5732bd7"
      },
      "execution_count": 320,
      "outputs": [
        {
          "output_type": "stream",
          "name": "stderr",
          "text": [
            "/tmp/ipython-input-665741229.py:23: FutureWarning:\n",
            "\n",
            "\n",
            "\n",
            "Passing `palette` without assigning `hue` is deprecated and will be removed in v0.14.0. Assign the `x` variable to `hue` and set `legend=False` for the same effect.\n",
            "\n",
            "\n",
            "/tmp/ipython-input-665741229.py:27: UserWarning:\n",
            "\n",
            "Glyph 128241 (\\N{MOBILE PHONE}) missing from font(s) DejaVu Sans.\n",
            "\n",
            "/usr/local/lib/python3.11/dist-packages/IPython/core/pylabtools.py:151: UserWarning:\n",
            "\n",
            "Glyph 128241 (\\N{MOBILE PHONE}) missing from font(s) DejaVu Sans.\n",
            "\n"
          ]
        },
        {
          "output_type": "display_data",
          "data": {
            "text/plain": [
              "<Figure size 640x480 with 1 Axes>"
            ],
            "image/png": "[encoded data removed]"
          },
          "metadata": {}
        }
      ]
    },
    {
      "cell_type": "markdown",
      "source": [
        "#PIE chart"
      ],
      "metadata": {
        "id": "UpN-9tLFp072"
      }
    },
    {
      "cell_type": "markdown",
      "source": [
        "Learning Preference Distribution"
      ],
      "metadata": {
        "id": "GCeoUOWwpuOb"
      }
    },
    {
      "cell_type": "code",
      "source": [
        "import pandas as pd\n",
        "import matplotlib.pyplot as plt\n",
        "\n",
        "# Standardize column names (if needed)\n",
        "df.columns = df.columns.str.strip().str.title()\n",
        "\n",
        "# Clean and count learning preference data\n",
        "df['Learning Preference'] = df['Learning Preference'].str.title().str.strip()\n",
        "preference_counts = df['Learning Preference'].value_counts()\n",
        "\n",
        "# Plot pie chart\n",
        "plt.figure(figsize=(6, 6))\n",
        "colors = ['#66c2a5', '#fc8d62', '#8da0cb', '#e78ac3', '#a6d854']\n",
        "plt.pie(preference_counts, labels=preference_counts.index, autopct='%1.1f%%', startangle=140, colors=colors)\n",
        "plt.title('🎯 Learning Preference Distribution')\n",
        "plt.axis('equal')  # Ensures pie is a circle\n",
        "plt.tight_layout()\n",
        "plt.show()\n"
      ],
      "metadata": {
        "colab": {
          "base_uri": "https://localhost:8080/",
          "height": 758
        },
        "id": "RIxordNhpxUX",
        "outputId": "331f02b0-8a96-4b55-99a5-d9f9947022d8"
      },
      "execution_count": 321,
      "outputs": [
        {
          "output_type": "stream",
          "name": "stderr",
          "text": [
            "/tmp/ipython-input-2699953283.py:17: UserWarning:\n",
            "\n",
            "Glyph 127919 (\\N{DIRECT HIT}) missing from font(s) DejaVu Sans.\n",
            "\n",
            "/usr/local/lib/python3.11/dist-packages/IPython/core/pylabtools.py:151: UserWarning:\n",
            "\n",
            "Glyph 127919 (\\N{DIRECT HIT}) missing from font(s) DejaVu Sans.\n",
            "\n"
          ]
        },
        {
          "output_type": "display_data",
          "data": {
            "text/plain": [
              "<Figure size 600x600 with 1 Axes>"
            ],
            "image/png": "[encoded data removed]"
          },
          "metadata": {}
        }
      ]
    },
    {
      "cell_type": "markdown",
      "source": [
        "#Challenges Breakdown: Most common difficulties reported."
      ],
      "metadata": {
        "id": "hd4JFkI_qB72"
      }
    },
    {
      "cell_type": "code",
      "source": [
        "# Standardize the column name and content\n",
        "df.columns = df.columns.str.strip().str.title()\n",
        "df['Challenges Faced'] = df['Challenges Faced'].str.lower().str.strip()\n",
        "\n",
        "# Count frequency of each challenge type\n",
        "challenges_count = df['Challenges Faced'].value_counts()\n",
        "\n",
        "# Display\n",
        "print(\"📊 Most Common Student Challenges:\")\n",
        "print(challenges_count)\n"
      ],
      "metadata": {
        "colab": {
          "base_uri": "https://localhost:8080/"
        },
        "id": "lrbi7yJGqKih",
        "outputId": "c68d2cc5-3836-4fa9-b2ff-1b00195075e2"
      },
      "execution_count": 322,
      "outputs": [
        {
          "output_type": "stream",
          "name": "stdout",
          "text": [
            "📊 Most Common Student Challenges:\n",
            "Challenges Faced\n",
            "time management      1\n",
            "lack of resources    1\n",
            "procrastination      1\n",
            "multiple             1\n",
            "Name: count, dtype: int64\n"
          ]
        }
      ]
    },
    {
      "cell_type": "code",
      "source": [
        "import seaborn as sns\n",
        "import matplotlib.pyplot as plt\n",
        "\n",
        "# Plot\n",
        "plt.figure(figsize=(8, 5))\n",
        "sns.barplot(x=challenges_count.values, y=challenges_count.index, palette='coolwarm')\n",
        "plt.title('⚠️ Most Common Challenges Reported by Students')\n",
        "plt.xlabel('Number of Students')\n",
        "plt.ylabel('Challenge Type')\n",
        "plt.tight_layout()\n",
        "plt.show()\n"
      ],
      "metadata": {
        "colab": {
          "base_uri": "https://localhost:8080/",
          "height": 558
        },
        "id": "o1LDpFggqNcM",
        "outputId": "ae587b28-8348-4230-a7f3-c3352abe9154"
      },
      "execution_count": 323,
      "outputs": [
        {
          "output_type": "stream",
          "name": "stderr",
          "text": [
            "/tmp/ipython-input-2355600971.py:6: FutureWarning:\n",
            "\n",
            "\n",
            "\n",
            "Passing `palette` without assigning `hue` is deprecated and will be removed in v0.14.0. Assign the `y` variable to `hue` and set `legend=False` for the same effect.\n",
            "\n",
            "\n"
          ]
        },
        {
          "output_type": "display_data",
          "data": {
            "text/plain": [
              "<Figure size 800x500 with 1 Axes>"
            ],
            "image/png": "[encoded data removed]"
          },
          "metadata": {}
        }
      ]
    },
    {
      "cell_type": "markdown",
      "source": [],
      "metadata": {
        "id": "ZQrnnT37qRMO"
      }
    },
    {
      "cell_type": "code",
      "source": [
        "import plotly.express as px\n",
        "\n",
        "# Ensure student names and attendance % exist\n",
        "fig_bar = px.bar(\n",
        "    df,\n",
        "    x='Student Name',\n",
        "    y='Attendance %',\n",
        "    color='Category',\n",
        "    title='📊 Attendance Percentage by Student',\n",
        "    text='Attendance %',\n",
        "    labels={'Attendance %': 'Attendance Percentage'},\n",
        "    height=400\n",
        ")\n",
        "\n",
        "fig_bar.update_traces(texttemplate='%{text:.1f}%', textposition='outside')\n",
        "fig_bar.update_layout(yaxis=dict(title='Attendance %'), xaxis=dict(title='Student Name'))\n",
        "fig_bar.show()\n"
      ],
      "metadata": {
        "colab": {
          "base_uri": "https://localhost:8080/",
          "height": 417
        },
        "id": "tfd9phzWqQ2-",
        "outputId": "b63cc162-9728-485d-d5e0-fac8f8eef973"
      },
      "execution_count": 324,
      "outputs": [
        {
          "output_type": "display_data",
          "data": {
            "text/html": [
              "<html>\n",
              "<head><meta charset=\"utf-8\" /></head>\n",
              "<body>\n",
              "    <div>            <script src=\"https://cdnjs.cloudflare.com/ajax/libs/mathjax/2.7.5/MathJax.js?config=TeX-AMS-MML_SVG\"></script><script type=\"text/javascript\">if (window.MathJax && window.MathJax.Hub && window.MathJax.Hub.Config) {window.MathJax.Hub.Config({SVG: {font: \"STIX-Web\"}});}</script>                <script type=\"text/javascript\">window.PlotlyConfig = {MathJaxConfig: 'local'};</script>\n",
              "        <script charset=\"utf-8\" src=\"https://cdn.plot.ly/plotly-2.35.2.min.js\"></script>                <div id=\"e79a93d5-4c50-463f-bd33-2eb8d64e9a90\" class=\"plotly-graph-div\" style=\"height:400px; width:100%;\"></div>            <script type=\"text/javascript\">                                    window.PLOTLYENV=window.PLOTLYENV || {};                                    if (document.getElementById(\"e79a93d5-4c50-463f-bd33-2eb8d64e9a90\")) {                    Plotly.newPlot(                        \"e79a93d5-4c50-463f-bd33-2eb8d64e9a90\",                        [{\"alignmentgroup\":\"True\",\"hovertemplate\":\"Category=Good\\u003cbr\\u003eStudent Name=%{x}\\u003cbr\\u003eAttendance Percentage=%{text}\\u003cextra\\u003e\\u003c\\u002fextra\\u003e\",\"legendgroup\":\"Good\",\"marker\":{\"color\":\"#636efa\",\"pattern\":{\"shape\":\"\"}},\"name\":\"Good\",\"offsetgroup\":\"Good\",\"orientation\":\"v\",\"showlegend\":true,\"text\":[88.88888888888889],\"textposition\":\"outside\",\"x\":[\"Amit\"],\"xaxis\":\"x\",\"y\":[88.88888888888889],\"yaxis\":\"y\",\"type\":\"bar\",\"texttemplate\":\"%{text:.1f}%\"},{\"alignmentgroup\":\"True\",\"hovertemplate\":\"Category=Average\\u003cbr\\u003eStudent Name=%{x}\\u003cbr\\u003eAttendance Percentage=%{text}\\u003cextra\\u003e\\u003c\\u002fextra\\u003e\",\"legendgroup\":\"Average\",\"marker\":{\"color\":\"#EF553B\",\"pattern\":{\"shape\":\"\"}},\"name\":\"Average\",\"offsetgroup\":\"Average\",\"orientation\":\"v\",\"showlegend\":true,\"text\":[66.66666666666666],\"textposition\":\"outside\",\"x\":[\"Riya\"],\"xaxis\":\"x\",\"y\":[66.66666666666666],\"yaxis\":\"y\",\"type\":\"bar\",\"texttemplate\":\"%{text:.1f}%\"},{\"alignmentgroup\":\"True\",\"hovertemplate\":\"Category=Excellent\\u003cbr\\u003eStudent Name=%{x}\\u003cbr\\u003eAttendance Percentage=%{text}\\u003cextra\\u003e\\u003c\\u002fextra\\u003e\",\"legendgroup\":\"Excellent\",\"marker\":{\"color\":\"#00cc96\",\"pattern\":{\"shape\":\"\"}},\"name\":\"Excellent\",\"offsetgroup\":\"Excellent\",\"orientation\":\"v\",\"showlegend\":true,\"text\":[100.0],\"textposition\":\"outside\",\"x\":[\"Zoya\"],\"xaxis\":\"x\",\"y\":[100.0],\"yaxis\":\"y\",\"type\":\"bar\",\"texttemplate\":\"%{text:.1f}%\"},{\"alignmentgroup\":\"True\",\"hovertemplate\":\"Category=Poor\\u003cbr\\u003eStudent Name=%{x}\\u003cbr\\u003eAttendance Percentage=%{text}\\u003cextra\\u003e\\u003c\\u002fextra\\u003e\",\"legendgroup\":\"Poor\",\"marker\":{\"color\":\"#ab63fa\",\"pattern\":{\"shape\":\"\"}},\"name\":\"Poor\",\"offsetgroup\":\"Poor\",\"orientation\":\"v\",\"showlegend\":true,\"text\":[55.55555555555556],\"textposition\":\"outside\",\"x\":[\"Kunal\"],\"xaxis\":\"x\",\"y\":[55.55555555555556],\"yaxis\":\"y\",\"type\":\"bar\",\"texttemplate\":\"%{text:.1f}%\"}],                        {\"template\":{\"data\":{\"histogram2dcontour\":[{\"type\":\"histogram2dcontour\",\"colorbar\":{\"outlinewidth\":0,\"ticks\":\"\"},\"colorscale\":[[0.0,\"#0d0887\"],[0.1111111111111111,\"#46039f\"],[0.2222222222222222,\"#7201a8\"],[0.3333333333333333,\"#9c179e\"],[0.4444444444444444,\"#bd3786\"],[0.5555555555555556,\"#d8576b\"],[0.6666666666666666,\"#ed7953\"],[0.7777777777777778,\"#fb9f3a\"],[0.8888888888888888,\"#fdca26\"],[1.0,\"#f0f921\"]]}],\"choropleth\":[{\"type\":\"choropleth\",\"colorbar\":{\"outlinewidth\":0,\"ticks\":\"\"}}],\"histogram2d\":[{\"type\":\"histogram2d\",\"colorbar\":{\"outlinewidth\":0,\"ticks\":\"\"},\"colorscale\":[[0.0,\"#0d0887\"],[0.1111111111111111,\"#46039f\"],[0.2222222222222222,\"#7201a8\"],[0.3333333333333333,\"#9c179e\"],[0.4444444444444444,\"#bd3786\"],[0.5555555555555556,\"#d8576b\"],[0.6666666666666666,\"#ed7953\"],[0.7777777777777778,\"#fb9f3a\"],[0.8888888888888888,\"#fdca26\"],[1.0,\"#f0f921\"]]}],\"heatmap\":[{\"type\":\"heatmap\",\"colorbar\":{\"outlinewidth\":0,\"ticks\":\"\"},\"colorscale\":[[0.0,\"#0d0887\"],[0.1111111111111111,\"#46039f\"],[0.2222222222222222,\"#7201a8\"],[0.3333333333333333,\"#9c179e\"],[0.4444444444444444,\"#bd3786\"],[0.5555555555555556,\"#d8576b\"],[0.6666666666666666,\"#ed7953\"],[0.7777777777777778,\"#fb9f3a\"],[0.8888888888888888,\"#fdca26\"],[1.0,\"#f0f921\"]]}],\"heatmapgl\":[{\"type\":\"heatmapgl\",\"colorbar\":{\"outlinewidth\":0,\"ticks\":\"\"},\"colorscale\":[[0.0,\"#0d0887\"],[0.1111111111111111,\"#46039f\"],[0.2222222222222222,\"#7201a8\"],[0.3333333333333333,\"#9c179e\"],[0.4444444444444444,\"#bd3786\"],[0.5555555555555556,\"#d8576b\"],[0.6666666666666666,\"#ed7953\"],[0.7777777777777778,\"#fb9f3a\"],[0.8888888888888888,\"#fdca26\"],[1.0,\"#f0f921\"]]}],\"contourcarpet\":[{\"type\":\"contourcarpet\",\"colorbar\":{\"outlinewidth\":0,\"ticks\":\"\"}}],\"contour\":[{\"type\":\"contour\",\"colorbar\":{\"outlinewidth\":0,\"ticks\":\"\"},\"colorscale\":[[0.0,\"#0d0887\"],[0.1111111111111111,\"#46039f\"],[0.2222222222222222,\"#7201a8\"],[0.3333333333333333,\"#9c179e\"],[0.4444444444444444,\"#bd3786\"],[0.5555555555555556,\"#d8576b\"],[0.6666666666666666,\"#ed7953\"],[0.7777777777777778,\"#fb9f3a\"],[0.8888888888888888,\"#fdca26\"],[1.0,\"#f0f921\"]]}],\"surface\":[{\"type\":\"surface\",\"colorbar\":{\"outlinewidth\":0,\"ticks\":\"\"},\"colorscale\":[[0.0,\"#0d0887\"],[0.1111111111111111,\"#46039f\"],[0.2222222222222222,\"#7201a8\"],[0.3333333333333333,\"#9c179e\"],[0.4444444444444444,\"#bd3786\"],[0.5555555555555556,\"#d8576b\"],[0.6666666666666666,\"#ed7953\"],[0.7777777777777778,\"#fb9f3a\"],[0.8888888888888888,\"#fdca26\"],[1.0,\"#f0f921\"]]}],\"mesh3d\":[{\"type\":\"mesh3d\",\"colorbar\":{\"outlinewidth\":0,\"ticks\":\"\"}}],\"scatter\":[{\"fillpattern\":{\"fillmode\":\"overlay\",\"size\":10,\"solidity\":0.2},\"type\":\"scatter\"}],\"parcoords\":[{\"type\":\"parcoords\",\"line\":{\"colorbar\":{\"outlinewidth\":0,\"ticks\":\"\"}}}],\"scatterpolargl\":[{\"type\":\"scatterpolargl\",\"marker\":{\"colorbar\":{\"outlinewidth\":0,\"ticks\":\"\"}}}],\"bar\":[{\"error_x\":{\"color\":\"#2a3f5f\"},\"error_y\":{\"color\":\"#2a3f5f\"},\"marker\":{\"line\":{\"color\":\"#E5ECF6\",\"width\":0.5},\"pattern\":{\"fillmode\":\"overlay\",\"size\":10,\"solidity\":0.2}},\"type\":\"bar\"}],\"scattergeo\":[{\"type\":\"scattergeo\",\"marker\":{\"colorbar\":{\"outlinewidth\":0,\"ticks\":\"\"}}}],\"scatterpolar\":[{\"type\":\"scatterpolar\",\"marker\":{\"colorbar\":{\"outlinewidth\":0,\"ticks\":\"\"}}}],\"histogram\":[{\"marker\":{\"pattern\":{\"fillmode\":\"overlay\",\"size\":10,\"solidity\":0.2}},\"type\":\"histogram\"}],\"scattergl\":[{\"type\":\"scattergl\",\"marker\":{\"colorbar\":{\"outlinewidth\":0,\"ticks\":\"\"}}}],\"scatter3d\":[{\"type\":\"scatter3d\",\"line\":{\"colorbar\":{\"outlinewidth\":0,\"ticks\":\"\"}},\"marker\":{\"colorbar\":{\"outlinewidth\":0,\"ticks\":\"\"}}}],\"scattermapbox\":[{\"type\":\"scattermapbox\",\"marker\":{\"colorbar\":{\"outlinewidth\":0,\"ticks\":\"\"}}}],\"scatterternary\":[{\"type\":\"scatterternary\",\"marker\":{\"colorbar\":{\"outlinewidth\":0,\"ticks\":\"\"}}}],\"scattercarpet\":[{\"type\":\"scattercarpet\",\"marker\":{\"colorbar\":{\"outlinewidth\":0,\"ticks\":\"\"}}}],\"carpet\":[{\"aaxis\":{\"endlinecolor\":\"#2a3f5f\",\"gridcolor\":\"white\",\"linecolor\":\"white\",\"minorgridcolor\":\"white\",\"startlinecolor\":\"#2a3f5f\"},\"baxis\":{\"endlinecolor\":\"#2a3f5f\",\"gridcolor\":\"white\",\"linecolor\":\"white\",\"minorgridcolor\":\"white\",\"startlinecolor\":\"#2a3f5f\"},\"type\":\"carpet\"}],\"table\":[{\"cells\":{\"fill\":{\"color\":\"#EBF0F8\"},\"line\":{\"color\":\"white\"}},\"header\":{\"fill\":{\"color\":\"#C8D4E3\"},\"line\":{\"color\":\"white\"}},\"type\":\"table\"}],\"barpolar\":[{\"marker\":{\"line\":{\"color\":\"#E5ECF6\",\"width\":0.5},\"pattern\":{\"fillmode\":\"overlay\",\"size\":10,\"solidity\":0.2}},\"type\":\"barpolar\"}],\"pie\":[{\"automargin\":true,\"type\":\"pie\"}]},\"layout\":{\"autotypenumbers\":\"strict\",\"colorway\":[\"#636efa\",\"#EF553B\",\"#00cc96\",\"#ab63fa\",\"#FFA15A\",\"#19d3f3\",\"#FF6692\",\"#B6E880\",\"#FF97FF\",\"#FECB52\"],\"font\":{\"color\":\"#2a3f5f\"},\"hovermode\":\"closest\",\"hoverlabel\":{\"align\":\"left\"},\"paper_bgcolor\":\"white\",\"plot_bgcolor\":\"#E5ECF6\",\"polar\":{\"bgcolor\":\"#E5ECF6\",\"angularaxis\":{\"gridcolor\":\"white\",\"linecolor\":\"white\",\"ticks\":\"\"},\"radialaxis\":{\"gridcolor\":\"white\",\"linecolor\":\"white\",\"ticks\":\"\"}},\"ternary\":{\"bgcolor\":\"#E5ECF6\",\"aaxis\":{\"gridcolor\":\"white\",\"linecolor\":\"white\",\"ticks\":\"\"},\"baxis\":{\"gridcolor\":\"white\",\"linecolor\":\"white\",\"ticks\":\"\"},\"caxis\":{\"gridcolor\":\"white\",\"linecolor\":\"white\",\"ticks\":\"\"}},\"coloraxis\":{\"colorbar\":{\"outlinewidth\":0,\"ticks\":\"\"}},\"colorscale\":{\"sequential\":[[0.0,\"#0d0887\"],[0.1111111111111111,\"#46039f\"],[0.2222222222222222,\"#7201a8\"],[0.3333333333333333,\"#9c179e\"],[0.4444444444444444,\"#bd3786\"],[0.5555555555555556,\"#d8576b\"],[0.6666666666666666,\"#ed7953\"],[0.7777777777777778,\"#fb9f3a\"],[0.8888888888888888,\"#fdca26\"],[1.0,\"#f0f921\"]],\"sequentialminus\":[[0.0,\"#0d0887\"],[0.1111111111111111,\"#46039f\"],[0.2222222222222222,\"#7201a8\"],[0.3333333333333333,\"#9c179e\"],[0.4444444444444444,\"#bd3786\"],[0.5555555555555556,\"#d8576b\"],[0.6666666666666666,\"#ed7953\"],[0.7777777777777778,\"#fb9f3a\"],[0.8888888888888888,\"#fdca26\"],[1.0,\"#f0f921\"]],\"diverging\":[[0,\"#8e0152\"],[0.1,\"#c51b7d\"],[0.2,\"#de77ae\"],[0.3,\"#f1b6da\"],[0.4,\"#fde0ef\"],[0.5,\"#f7f7f7\"],[0.6,\"#e6f5d0\"],[0.7,\"#b8e186\"],[0.8,\"#7fbc41\"],[0.9,\"#4d9221\"],[1,\"#276419\"]]},\"xaxis\":{\"gridcolor\":\"white\",\"linecolor\":\"white\",\"ticks\":\"\",\"title\":{\"standoff\":15},\"zerolinecolor\":\"white\",\"automargin\":true,\"zerolinewidth\":2},\"yaxis\":{\"gridcolor\":\"white\",\"linecolor\":\"white\",\"ticks\":\"\",\"title\":{\"standoff\":15},\"zerolinecolor\":\"white\",\"automargin\":true,\"zerolinewidth\":2},\"scene\":{\"xaxis\":{\"backgroundcolor\":\"#E5ECF6\",\"gridcolor\":\"white\",\"linecolor\":\"white\",\"showbackground\":true,\"ticks\":\"\",\"zerolinecolor\":\"white\",\"gridwidth\":2},\"yaxis\":{\"backgroundcolor\":\"#E5ECF6\",\"gridcolor\":\"white\",\"linecolor\":\"white\",\"showbackground\":true,\"ticks\":\"\",\"zerolinecolor\":\"white\",\"gridwidth\":2},\"zaxis\":{\"backgroundcolor\":\"#E5ECF6\",\"gridcolor\":\"white\",\"linecolor\":\"white\",\"showbackground\":true,\"ticks\":\"\",\"zerolinecolor\":\"white\",\"gridwidth\":2}},\"shapedefaults\":{\"line\":{\"color\":\"#2a3f5f\"}},\"annotationdefaults\":{\"arrowcolor\":\"#2a3f5f\",\"arrowhead\":0,\"arrowwidth\":1},\"geo\":{\"bgcolor\":\"white\",\"landcolor\":\"#E5ECF6\",\"subunitcolor\":\"white\",\"showland\":true,\"showlakes\":true,\"lakecolor\":\"white\"},\"title\":{\"x\":0.05},\"mapbox\":{\"style\":\"light\"}}},\"xaxis\":{\"anchor\":\"y\",\"domain\":[0.0,1.0],\"title\":{\"text\":\"Student Name\"}},\"yaxis\":{\"anchor\":\"x\",\"domain\":[0.0,1.0],\"title\":{\"text\":\"Attendance %\"}},\"legend\":{\"title\":{\"text\":\"Category\"},\"tracegroupgap\":0},\"title\":{\"text\":\"📊 Attendance Percentage by Student\"},\"barmode\":\"relative\",\"height\":400},                        {\"responsive\": true}                    ).then(function(){\n",
              "                            \n",
              "var gd = document.getElementById('e79a93d5-4c50-463f-bd33-2eb8d64e9a90');\n",
              "var x = new MutationObserver(function (mutations, observer) {{\n",
              "        var display = window.getComputedStyle(gd).display;\n",
              "        if (!display || display === 'none') {{\n",
              "            console.log([gd, 'removed!']);\n",
              "            Plotly.purge(gd);\n",
              "            observer.disconnect();\n",
              "        }}\n",
              "}});\n",
              "\n",
              "// Listen for the removal of the full notebook cells\n",
              "var notebookContainer = gd.closest('#notebook-container');\n",
              "if (notebookContainer) {{\n",
              "    x.observe(notebookContainer, {childList: true});\n",
              "}}\n",
              "\n",
              "// Listen for the clearing of the current output cell\n",
              "var outputEl = gd.closest('.output');\n",
              "if (outputEl) {{\n",
              "    x.observe(outputEl, {childList: true});\n",
              "}}\n",
              "\n",
              "                        })                };                            </script>        </div>\n",
              "</body>\n",
              "</html>"
            ]
          },
          "metadata": {}
        }
      ]
    },
    {
      "cell_type": "code",
      "source": [
        "fig_pie = px.pie(\n",
        "    df,\n",
        "    names='Category',\n",
        "    title='🥧 Attendance Category Distribution',\n",
        "    hole=0.4,\n",
        "    color_discrete_sequence=px.colors.qualitative.Set3\n",
        ")\n",
        "\n",
        "fig_pie.update_traces(textposition='inside', textinfo='percent+label')\n",
        "fig_pie.show()\n"
      ],
      "metadata": {
        "colab": {
          "base_uri": "https://localhost:8080/",
          "height": 542
        },
        "id": "DtV6rkwEqfP7",
        "outputId": "ccc284aa-189b-4e52-c764-0b8a5dbafb35"
      },
      "execution_count": 325,
      "outputs": [
        {
          "output_type": "display_data",
          "data": {
            "text/html": [
              "<html>\n",
              "<head><meta charset=\"utf-8\" /></head>\n",
              "<body>\n",
              "    <div>            <script src=\"https://cdnjs.cloudflare.com/ajax/libs/mathjax/2.7.5/MathJax.js?config=TeX-AMS-MML_SVG\"></script><script type=\"text/javascript\">if (window.MathJax && window.MathJax.Hub && window.MathJax.Hub.Config) {window.MathJax.Hub.Config({SVG: {font: \"STIX-Web\"}});}</script>                <script type=\"text/javascript\">window.PlotlyConfig = {MathJaxConfig: 'local'};</script>\n",
              "        <script charset=\"utf-8\" src=\"https://cdn.plot.ly/plotly-2.35.2.min.js\"></script>                <div id=\"cb5bf7f0-9ce7-486d-962b-581f2549a8da\" class=\"plotly-graph-div\" style=\"height:525px; width:100%;\"></div>            <script type=\"text/javascript\">                                    window.PLOTLYENV=window.PLOTLYENV || {};                                    if (document.getElementById(\"cb5bf7f0-9ce7-486d-962b-581f2549a8da\")) {                    Plotly.newPlot(                        \"cb5bf7f0-9ce7-486d-962b-581f2549a8da\",                        [{\"domain\":{\"x\":[0.0,1.0],\"y\":[0.0,1.0]},\"hole\":0.4,\"hovertemplate\":\"Category=%{label}\\u003cextra\\u003e\\u003c\\u002fextra\\u003e\",\"labels\":[\"Good\",\"Average\",\"Excellent\",\"Poor\"],\"legendgroup\":\"\",\"name\":\"\",\"showlegend\":true,\"type\":\"pie\",\"textinfo\":\"percent+label\",\"textposition\":\"inside\"}],                        {\"template\":{\"data\":{\"histogram2dcontour\":[{\"type\":\"histogram2dcontour\",\"colorbar\":{\"outlinewidth\":0,\"ticks\":\"\"},\"colorscale\":[[0.0,\"#0d0887\"],[0.1111111111111111,\"#46039f\"],[0.2222222222222222,\"#7201a8\"],[0.3333333333333333,\"#9c179e\"],[0.4444444444444444,\"#bd3786\"],[0.5555555555555556,\"#d8576b\"],[0.6666666666666666,\"#ed7953\"],[0.7777777777777778,\"#fb9f3a\"],[0.8888888888888888,\"#fdca26\"],[1.0,\"#f0f921\"]]}],\"choropleth\":[{\"type\":\"choropleth\",\"colorbar\":{\"outlinewidth\":0,\"ticks\":\"\"}}],\"histogram2d\":[{\"type\":\"histogram2d\",\"colorbar\":{\"outlinewidth\":0,\"ticks\":\"\"},\"colorscale\":[[0.0,\"#0d0887\"],[0.1111111111111111,\"#46039f\"],[0.2222222222222222,\"#7201a8\"],[0.3333333333333333,\"#9c179e\"],[0.4444444444444444,\"#bd3786\"],[0.5555555555555556,\"#d8576b\"],[0.6666666666666666,\"#ed7953\"],[0.7777777777777778,\"#fb9f3a\"],[0.8888888888888888,\"#fdca26\"],[1.0,\"#f0f921\"]]}],\"heatmap\":[{\"type\":\"heatmap\",\"colorbar\":{\"outlinewidth\":0,\"ticks\":\"\"},\"colorscale\":[[0.0,\"#0d0887\"],[0.1111111111111111,\"#46039f\"],[0.2222222222222222,\"#7201a8\"],[0.3333333333333333,\"#9c179e\"],[0.4444444444444444,\"#bd3786\"],[0.5555555555555556,\"#d8576b\"],[0.6666666666666666,\"#ed7953\"],[0.7777777777777778,\"#fb9f3a\"],[0.8888888888888888,\"#fdca26\"],[1.0,\"#f0f921\"]]}],\"heatmapgl\":[{\"type\":\"heatmapgl\",\"colorbar\":{\"outlinewidth\":0,\"ticks\":\"\"},\"colorscale\":[[0.0,\"#0d0887\"],[0.1111111111111111,\"#46039f\"],[0.2222222222222222,\"#7201a8\"],[0.3333333333333333,\"#9c179e\"],[0.4444444444444444,\"#bd3786\"],[0.5555555555555556,\"#d8576b\"],[0.6666666666666666,\"#ed7953\"],[0.7777777777777778,\"#fb9f3a\"],[0.8888888888888888,\"#fdca26\"],[1.0,\"#f0f921\"]]}],\"contourcarpet\":[{\"type\":\"contourcarpet\",\"colorbar\":{\"outlinewidth\":0,\"ticks\":\"\"}}],\"contour\":[{\"type\":\"contour\",\"colorbar\":{\"outlinewidth\":0,\"ticks\":\"\"},\"colorscale\":[[0.0,\"#0d0887\"],[0.1111111111111111,\"#46039f\"],[0.2222222222222222,\"#7201a8\"],[0.3333333333333333,\"#9c179e\"],[0.4444444444444444,\"#bd3786\"],[0.5555555555555556,\"#d8576b\"],[0.6666666666666666,\"#ed7953\"],[0.7777777777777778,\"#fb9f3a\"],[0.8888888888888888,\"#fdca26\"],[1.0,\"#f0f921\"]]}],\"surface\":[{\"type\":\"surface\",\"colorbar\":{\"outlinewidth\":0,\"ticks\":\"\"},\"colorscale\":[[0.0,\"#0d0887\"],[0.1111111111111111,\"#46039f\"],[0.2222222222222222,\"#7201a8\"],[0.3333333333333333,\"#9c179e\"],[0.4444444444444444,\"#bd3786\"],[0.5555555555555556,\"#d8576b\"],[0.6666666666666666,\"#ed7953\"],[0.7777777777777778,\"#fb9f3a\"],[0.8888888888888888,\"#fdca26\"],[1.0,\"#f0f921\"]]}],\"mesh3d\":[{\"type\":\"mesh3d\",\"colorbar\":{\"outlinewidth\":0,\"ticks\":\"\"}}],\"scatter\":[{\"fillpattern\":{\"fillmode\":\"overlay\",\"size\":10,\"solidity\":0.2},\"type\":\"scatter\"}],\"parcoords\":[{\"type\":\"parcoords\",\"line\":{\"colorbar\":{\"outlinewidth\":0,\"ticks\":\"\"}}}],\"scatterpolargl\":[{\"type\":\"scatterpolargl\",\"marker\":{\"colorbar\":{\"outlinewidth\":0,\"ticks\":\"\"}}}],\"bar\":[{\"error_x\":{\"color\":\"#2a3f5f\"},\"error_y\":{\"color\":\"#2a3f5f\"},\"marker\":{\"line\":{\"color\":\"#E5ECF6\",\"width\":0.5},\"pattern\":{\"fillmode\":\"overlay\",\"size\":10,\"solidity\":0.2}},\"type\":\"bar\"}],\"scattergeo\":[{\"type\":\"scattergeo\",\"marker\":{\"colorbar\":{\"outlinewidth\":0,\"ticks\":\"\"}}}],\"scatterpolar\":[{\"type\":\"scatterpolar\",\"marker\":{\"colorbar\":{\"outlinewidth\":0,\"ticks\":\"\"}}}],\"histogram\":[{\"marker\":{\"pattern\":{\"fillmode\":\"overlay\",\"size\":10,\"solidity\":0.2}},\"type\":\"histogram\"}],\"scattergl\":[{\"type\":\"scattergl\",\"marker\":{\"colorbar\":{\"outlinewidth\":0,\"ticks\":\"\"}}}],\"scatter3d\":[{\"type\":\"scatter3d\",\"line\":{\"colorbar\":{\"outlinewidth\":0,\"ticks\":\"\"}},\"marker\":{\"colorbar\":{\"outlinewidth\":0,\"ticks\":\"\"}}}],\"scattermapbox\":[{\"type\":\"scattermapbox\",\"marker\":{\"colorbar\":{\"outlinewidth\":0,\"ticks\":\"\"}}}],\"scatterternary\":[{\"type\":\"scatterternary\",\"marker\":{\"colorbar\":{\"outlinewidth\":0,\"ticks\":\"\"}}}],\"scattercarpet\":[{\"type\":\"scattercarpet\",\"marker\":{\"colorbar\":{\"outlinewidth\":0,\"ticks\":\"\"}}}],\"carpet\":[{\"aaxis\":{\"endlinecolor\":\"#2a3f5f\",\"gridcolor\":\"white\",\"linecolor\":\"white\",\"minorgridcolor\":\"white\",\"startlinecolor\":\"#2a3f5f\"},\"baxis\":{\"endlinecolor\":\"#2a3f5f\",\"gridcolor\":\"white\",\"linecolor\":\"white\",\"minorgridcolor\":\"white\",\"startlinecolor\":\"#2a3f5f\"},\"type\":\"carpet\"}],\"table\":[{\"cells\":{\"fill\":{\"color\":\"#EBF0F8\"},\"line\":{\"color\":\"white\"}},\"header\":{\"fill\":{\"color\":\"#C8D4E3\"},\"line\":{\"color\":\"white\"}},\"type\":\"table\"}],\"barpolar\":[{\"marker\":{\"line\":{\"color\":\"#E5ECF6\",\"width\":0.5},\"pattern\":{\"fillmode\":\"overlay\",\"size\":10,\"solidity\":0.2}},\"type\":\"barpolar\"}],\"pie\":[{\"automargin\":true,\"type\":\"pie\"}]},\"layout\":{\"autotypenumbers\":\"strict\",\"colorway\":[\"#636efa\",\"#EF553B\",\"#00cc96\",\"#ab63fa\",\"#FFA15A\",\"#19d3f3\",\"#FF6692\",\"#B6E880\",\"#FF97FF\",\"#FECB52\"],\"font\":{\"color\":\"#2a3f5f\"},\"hovermode\":\"closest\",\"hoverlabel\":{\"align\":\"left\"},\"paper_bgcolor\":\"white\",\"plot_bgcolor\":\"#E5ECF6\",\"polar\":{\"bgcolor\":\"#E5ECF6\",\"angularaxis\":{\"gridcolor\":\"white\",\"linecolor\":\"white\",\"ticks\":\"\"},\"radialaxis\":{\"gridcolor\":\"white\",\"linecolor\":\"white\",\"ticks\":\"\"}},\"ternary\":{\"bgcolor\":\"#E5ECF6\",\"aaxis\":{\"gridcolor\":\"white\",\"linecolor\":\"white\",\"ticks\":\"\"},\"baxis\":{\"gridcolor\":\"white\",\"linecolor\":\"white\",\"ticks\":\"\"},\"caxis\":{\"gridcolor\":\"white\",\"linecolor\":\"white\",\"ticks\":\"\"}},\"coloraxis\":{\"colorbar\":{\"outlinewidth\":0,\"ticks\":\"\"}},\"colorscale\":{\"sequential\":[[0.0,\"#0d0887\"],[0.1111111111111111,\"#46039f\"],[0.2222222222222222,\"#7201a8\"],[0.3333333333333333,\"#9c179e\"],[0.4444444444444444,\"#bd3786\"],[0.5555555555555556,\"#d8576b\"],[0.6666666666666666,\"#ed7953\"],[0.7777777777777778,\"#fb9f3a\"],[0.8888888888888888,\"#fdca26\"],[1.0,\"#f0f921\"]],\"sequentialminus\":[[0.0,\"#0d0887\"],[0.1111111111111111,\"#46039f\"],[0.2222222222222222,\"#7201a8\"],[0.3333333333333333,\"#9c179e\"],[0.4444444444444444,\"#bd3786\"],[0.5555555555555556,\"#d8576b\"],[0.6666666666666666,\"#ed7953\"],[0.7777777777777778,\"#fb9f3a\"],[0.8888888888888888,\"#fdca26\"],[1.0,\"#f0f921\"]],\"diverging\":[[0,\"#8e0152\"],[0.1,\"#c51b7d\"],[0.2,\"#de77ae\"],[0.3,\"#f1b6da\"],[0.4,\"#fde0ef\"],[0.5,\"#f7f7f7\"],[0.6,\"#e6f5d0\"],[0.7,\"#b8e186\"],[0.8,\"#7fbc41\"],[0.9,\"#4d9221\"],[1,\"#276419\"]]},\"xaxis\":{\"gridcolor\":\"white\",\"linecolor\":\"white\",\"ticks\":\"\",\"title\":{\"standoff\":15},\"zerolinecolor\":\"white\",\"automargin\":true,\"zerolinewidth\":2},\"yaxis\":{\"gridcolor\":\"white\",\"linecolor\":\"white\",\"ticks\":\"\",\"title\":{\"standoff\":15},\"zerolinecolor\":\"white\",\"automargin\":true,\"zerolinewidth\":2},\"scene\":{\"xaxis\":{\"backgroundcolor\":\"#E5ECF6\",\"gridcolor\":\"white\",\"linecolor\":\"white\",\"showbackground\":true,\"ticks\":\"\",\"zerolinecolor\":\"white\",\"gridwidth\":2},\"yaxis\":{\"backgroundcolor\":\"#E5ECF6\",\"gridcolor\":\"white\",\"linecolor\":\"white\",\"showbackground\":true,\"ticks\":\"\",\"zerolinecolor\":\"white\",\"gridwidth\":2},\"zaxis\":{\"backgroundcolor\":\"#E5ECF6\",\"gridcolor\":\"white\",\"linecolor\":\"white\",\"showbackground\":true,\"ticks\":\"\",\"zerolinecolor\":\"white\",\"gridwidth\":2}},\"shapedefaults\":{\"line\":{\"color\":\"#2a3f5f\"}},\"annotationdefaults\":{\"arrowcolor\":\"#2a3f5f\",\"arrowhead\":0,\"arrowwidth\":1},\"geo\":{\"bgcolor\":\"white\",\"landcolor\":\"#E5ECF6\",\"subunitcolor\":\"white\",\"showland\":true,\"showlakes\":true,\"lakecolor\":\"white\"},\"title\":{\"x\":0.05},\"mapbox\":{\"style\":\"light\"}}},\"legend\":{\"tracegroupgap\":0},\"title\":{\"text\":\"🥧 Attendance Category Distribution\"},\"piecolorway\":[\"rgb(141,211,199)\",\"rgb(255,255,179)\",\"rgb(190,186,218)\",\"rgb(251,128,114)\",\"rgb(128,177,211)\",\"rgb(253,180,98)\",\"rgb(179,222,105)\",\"rgb(252,205,229)\",\"rgb(217,217,217)\",\"rgb(188,128,189)\",\"rgb(204,235,197)\",\"rgb(255,237,111)\"]},                        {\"responsive\": true}                    ).then(function(){\n",
              "                            \n",
              "var gd = document.getElementById('cb5bf7f0-9ce7-486d-962b-581f2549a8da');\n",
              "var x = new MutationObserver(function (mutations, observer) {{\n",
              "        var display = window.getComputedStyle(gd).display;\n",
              "        if (!display || display === 'none') {{\n",
              "            console.log([gd, 'removed!']);\n",
              "            Plotly.purge(gd);\n",
              "            observer.disconnect();\n",
              "        }}\n",
              "}});\n",
              "\n",
              "// Listen for the removal of the full notebook cells\n",
              "var notebookContainer = gd.closest('#notebook-container');\n",
              "if (notebookContainer) {{\n",
              "    x.observe(notebookContainer, {childList: true});\n",
              "}}\n",
              "\n",
              "// Listen for the clearing of the current output cell\n",
              "var outputEl = gd.closest('.output');\n",
              "if (outputEl) {{\n",
              "    x.observe(outputEl, {childList: true});\n",
              "}}\n",
              "\n",
              "                        })                };                            </script>        </div>\n",
              "</body>\n",
              "</html>"
            ]
          },
          "metadata": {}
        }
      ]
    },
    {
      "cell_type": "markdown",
      "source": [
        "**Full Dashboard Code Using Dash**"
      ],
      "metadata": {
        "id": "Vj9Epm20qygw"
      }
    },
    {
      "cell_type": "code",
      "source": [
        "import dash\n",
        "from dash import html, dash_table\n",
        "import plotly.express as px\n",
        "import pandas as pd\n",
        "\n",
        "# Sample DataFrame (replace with your cleaned data)\n",
        "df = pd.DataFrame({\n",
        "    'Student Name': ['Amit', 'Riya', 'Zoya', 'Kunal'],\n",
        "    'Student ID': [101, 102, 103, 104],\n",
        "    'Total Classes': [9, 9, 9, 9],\n",
        "    'Attended Classes': [8, 6, 9, 5]\n",
        "})\n",
        "\n",
        "# Compute attendance %\n",
        "df['Attendance %'] = (df['Attended Classes'] / df['Total Classes']) * 100\n",
        "\n",
        "# Categorize attendance\n",
        "def categorize_attendance(p):\n",
        "    if p >= 90:\n",
        "        return 'Excellent'\n",
        "    elif p >= 75:\n",
        "        return 'Good'\n",
        "    elif p >= 60:\n",
        "        return 'Average'\n",
        "    else:\n",
        "        return 'Poor'\n",
        "\n",
        "df['Category'] = df['Attendance %'].apply(categorize_attendance)\n",
        "\n",
        "# 📊 Bar Chart: Attendance % per student\n",
        "fig_bar = px.bar(\n",
        "    df, x='Student Name', y='Attendance %', color='Category',\n",
        "    title='📊 Attendance % by Student', text='Attendance %',\n",
        "    labels={'Attendance %': 'Attendance Percentage'},\n",
        "    height=350\n",
        ")\n",
        "fig_bar.update_traces(texttemplate='%{text:.1f}%', textposition='outside')\n",
        "\n",
        "# 🥧 Pie Chart: Category Distribution\n",
        "fig_pie = px.pie(\n",
        "    df, names='Category', title='🥧 Attendance Category Distribution',\n",
        "    hole=0.4, color_discrete_sequence=px.colors.qualitative.Set3\n",
        ")\n",
        "fig_pie.update_traces(textposition='inside', textinfo='percent+label')\n",
        "\n",
        "# 🚀 Build Dash App\n",
        "app = dash.Dash(__name__)\n",
        "app.title = \"Student Attendance Dashboard\"\n",
        "\n",
        "app.layout = html.Div([\n",
        "    html.H2(\"📘 Student Attendance Dashboard\", style={'textAlign': 'center'}),\n",
        "\n",
        "    html.Div(\"⚠️ Warning: Poor attendance detected in some students. Please follow up.\", style={\n",
        "        'backgroundColor': '#ffe6e6',\n",
        "        'padding': '10px',\n",
        "        'border': '1px solid #ffcccc',\n",
        "        'color': 'darkred',\n",
        "        'textAlign': 'center',\n",
        "        'marginBottom': '20px'\n",
        "    }),\n",
        "\n",
        "    html.Div([\n",
        "        dash_table.DataTable(\n",
        "            columns=[{\"name\": col, \"id\": col} for col in df.columns],\n",
        "            data=df.to_dict('records'),\n",
        "            style_table={'overflowX': 'auto', 'width': '45%'},\n",
        "            style_cell={'textAlign': 'center', 'padding': '8px'},\n",
        "            style_header={'backgroundColor': '#f0f0f0', 'fontWeight': 'bold'},\n",
        "            style_data_conditional=[\n",
        "                {\n",
        "                    'if': {'filter_query': '{Category} = \"Poor\"', 'column_id': 'Category'},\n",
        "                    'backgroundColor': '#ffe6e6',\n",
        "                    'color': 'red'\n",
        "                },\n",
        "                {\n",
        "                    'if': {'filter_query': '{Category} = \"Excellent\"', 'column_id': 'Category'},\n",
        "                    'backgroundColor': '#e6ffe6',\n",
        "                    'color': 'green'\n",
        "                }\n",
        "            ]\n",
        "        ),\n",
        "\n",
        "        html.Div([\n",
        "            html.Div([\n",
        "                html.H4(\"📊 Attendance % by Student\"),\n",
        "                html.Div(children=[fig_bar.to_html(include_plotlyjs='cdn', full_html=False)], style={'marginBottom': '30px'})\n",
        "            ]),\n",
        "            html.Div([\n",
        "                html.H4(\"🥧 Category Distribution\"),\n",
        "                html.Div(children=[fig_pie.to_html(include_plotlyjs='cdn', full_html=False)])\n",
        "            ])\n",
        "        ], style={'width': '50%', 'paddingLeft': '20px'})\n",
        "    ], style={'display': 'flex', 'justifyContent': 'space-between'})\n",
        "])\n",
        "\n",
        "if __name__ == '__main__':\n",
        "    app.run(debug=True)"
      ],
      "metadata": {
        "colab": {
          "base_uri": "https://localhost:8080/",
          "height": 672
        },
        "id": "QTzqcae3qiqg",
        "outputId": "be2f69d0-16a3-4161-aec9-6475ed5bb6df"
      },
      "execution_count": 326,
      "outputs": [
        {
          "output_type": "display_data",
          "data": {
            "text/plain": [
              "<IPython.core.display.Javascript object>"
            ],
            "application/javascript": [
              "(async (port, path, width, height, cache, element) => {\n",
              "    if (!google.colab.kernel.accessAllowed && !cache) {\n",
              "      return;\n",
              "    }\n",
              "    element.appendChild(document.createTextNode(''));\n",
              "    const url = await google.colab.kernel.proxyPort(port, {cache});\n",
              "    const iframe = document.createElement('iframe');\n",
              "    iframe.src = new URL(path, url).toString();\n",
              "    iframe.height = height;\n",
              "    iframe.width = width;\n",
              "    iframe.style.border = 0;\n",
              "    iframe.allow = [\n",
              "        'accelerometer',\n",
              "        'autoplay',\n",
              "        'camera',\n",
              "        'clipboard-read',\n",
              "        'clipboard-write',\n",
              "        'gyroscope',\n",
              "        'magnetometer',\n",
              "        'microphone',\n",
              "        'serial',\n",
              "        'usb',\n",
              "        'xr-spatial-tracking',\n",
              "    ].join('; ');\n",
              "    element.appendChild(iframe);\n",
              "  })(8050, \"/\", \"100%\", 650, false, window.element)"
            ]
          },
          "metadata": {}
        }
      ]
    },
    {
      "cell_type": "code",
      "source": [
        "import dash\n",
        "from dash import html, dcc, dash_table\n",
        "import plotly.express as px\n",
        "import pandas as pd\n",
        "\n",
        "# 🧮 Sample Data (replace with actual data)\n",
        "df = pd.DataFrame({\n",
        "    'Student Name': ['Amit', 'Riya', 'Zoya', 'Kunal'],\n",
        "    'Student ID': [101, 102, 103, 104],\n",
        "    'Total Classes': [9, 9, 9, 9],\n",
        "    'Attended Classes': [8, 6, 9, 5]\n",
        "})\n",
        "\n",
        "# 🎯 Attendance Calculations\n",
        "df['Attendance %'] = (df['Attended Classes'] / df['Total Classes']) * 100\n",
        "\n",
        "def categorize(p):\n",
        "    if p >= 90:\n",
        "        return 'Excellent'\n",
        "    elif p >= 75:\n",
        "        return 'Good'\n",
        "    elif p >= 60:\n",
        "        return 'Average'\n",
        "    else:\n",
        "        return 'Poor'\n",
        "\n",
        "df['Category'] = df['Attendance %'].apply(categorize)\n",
        "\n",
        "# 📊 Charts\n",
        "bar_fig = px.bar(df, x='Student Name', y='Attendance %', color='Category',\n",
        "                 text='Attendance %', title='📊 Attendance % by Student',\n",
        "                 color_discrete_sequence=px.colors.qualitative.Set1)\n",
        "\n",
        "bar_fig.update_traces(texttemplate='%{text:.1f}%', textposition='outside')\n",
        "bar_fig.update_layout(yaxis_title='Attendance %', xaxis_title='Student')\n",
        "\n",
        "pie_fig = px.pie(df, names='Category', title='🥧 Attendance Category Distribution',\n",
        "                 color_discrete_sequence=px.colors.qualitative.Set3, hole=0.4)\n",
        "pie_fig.update_traces(textinfo='percent+label', textposition='inside')\n",
        "\n",
        "# 🚀 Dash App\n",
        "app = dash.Dash(__name__)\n",
        "app.title = \"Attendance Dashboard\"\n",
        "\n",
        "app.layout = html.Div([\n",
        "    html.H2(\"📘 Student Attendance Dashboard\", style={'textAlign': 'center'}),\n",
        "\n",
        "    html.Div(\"⚠️ Warning: Some students have poor attendance. Please review and take necessary action.\", style={\n",
        "        'backgroundColor': '#fff0f0',\n",
        "        'padding': '12px',\n",
        "        'textAlign': 'center',\n",
        "        'color': '#a94442',\n",
        "        'marginBottom': '20px',\n",
        "        'border': '1px solid #f2dede',\n",
        "        'borderRadius': '5px'\n",
        "    }),\n",
        "\n",
        "    html.Div([\n",
        "        dash_table.DataTable(\n",
        "            id='attendance-table',\n",
        "            columns=[{\"name\": i, \"id\": i} for i in df.columns],\n",
        "            data=df.to_dict('records'),\n",
        "            style_table={'width': '45%', 'overflowX': 'auto'},\n",
        "            style_cell={'textAlign': 'center'},\n",
        "            style_header={'backgroundColor': '#f8f8f8', 'fontWeight': 'bold'},\n",
        "            style_data_conditional=[\n",
        "                {\n",
        "                    'if': {'filter_query': '{Category} = \"Poor\"', 'column_id': 'Category'},\n",
        "                    'backgroundColor': '#fde0dc',\n",
        "                    'color': 'red'\n",
        "                },\n",
        "                {\n",
        "                    'if': {'filter_query': '{Category} = \"Excellent\"', 'column_id': 'Category'},\n",
        "                    'backgroundColor': '#e0f7fa',\n",
        "                    'color': 'green'\n",
        "                }\n",
        "            ]\n",
        "        ),\n",
        "\n",
        "        html.Div([\n",
        "            dcc.Graph(figure=bar_fig),\n",
        "            dcc.Graph(figure=pie_fig)\n",
        "        ], style={'width': '50%', 'display': 'inline-block', 'verticalAlign': 'top'})\n",
        "    ], style={'display': 'flex'}) # Completed the layout definition with closing brackets and parentheses\n",
        "])\n",
        "\n",
        "if __name__ == '__main__':\n",
        "    app.run(debug=True)"
      ],
      "metadata": {
        "colab": {
          "base_uri": "https://localhost:8080/",
          "height": 672
        },
        "id": "vls_-s79sVjp",
        "outputId": "462b0501-7cfc-4398-e999-51aa0e7ca2a8"
      },
      "execution_count": 327,
      "outputs": [
        {
          "output_type": "display_data",
          "data": {
            "text/plain": [
              "<IPython.core.display.Javascript object>"
            ],
            "application/javascript": [
              "(async (port, path, width, height, cache, element) => {\n",
              "    if (!google.colab.kernel.accessAllowed && !cache) {\n",
              "      return;\n",
              "    }\n",
              "    element.appendChild(document.createTextNode(''));\n",
              "    const url = await google.colab.kernel.proxyPort(port, {cache});\n",
              "    const iframe = document.createElement('iframe');\n",
              "    iframe.src = new URL(path, url).toString();\n",
              "    iframe.height = height;\n",
              "    iframe.width = width;\n",
              "    iframe.style.border = 0;\n",
              "    iframe.allow = [\n",
              "        'accelerometer',\n",
              "        'autoplay',\n",
              "        'camera',\n",
              "        'clipboard-read',\n",
              "        'clipboard-write',\n",
              "        'gyroscope',\n",
              "        'magnetometer',\n",
              "        'microphone',\n",
              "        'serial',\n",
              "        'usb',\n",
              "        'xr-spatial-tracking',\n",
              "    ].join('; ');\n",
              "    element.appendChild(iframe);\n",
              "  })(8050, \"/\", \"100%\", 650, false, window.element)"
            ]
          },
          "metadata": {}
        }
      ]
    },
    {
      "cell_type": "code",
      "source": [
        "import pandas as pd\n",
        "import plotly.express as px\n",
        "from dash import Dash, html, dcc, dash_table\n",
        "\n",
        "# Use the already-loaded DataFrame (df)\n",
        "# Clean column names\n",
        "df.columns = df.columns.str.strip()\n",
        "\n",
        "# Set the correct column names\n",
        "att_pct_col = 'Attendance %'  # <- from your original data\n",
        "\n",
        "# Ensure it's numeric\n",
        "df[att_pct_col] = pd.to_numeric(df[att_pct_col], errors='coerce')\n",
        "\n",
        "# Categorize attendance\n",
        "def categorize(att_pct):\n",
        "    if pd.isna(att_pct):\n",
        "        return 'Unknown'\n",
        "    elif att_pct >= 90:\n",
        "        return 'Good'\n",
        "    elif att_pct >= 75:\n",
        "        return 'Warning'\n",
        "    else:\n",
        "        return 'Critical'\n",
        "\n",
        "df['Category'] = df[att_pct_col].apply(categorize)\n",
        "\n",
        "# Top warning message\n",
        "critical_students = df[df['Category'] == 'Critical']\n",
        "critical_warning_text = (\n",
        "    f\"⚠️ {len(critical_students)} student(s) with Critical attendance!\"\n",
        "    if not critical_students.empty else \"✅ No critical attendance issues!\"\n",
        ")\n",
        "\n",
        "# Bar Chart\n",
        "bar_fig = px.bar(\n",
        "    df, x='Student Name', y=att_pct_col, color='Category',\n",
        "    title='Attendance Percentage per Student', text=att_pct_col\n",
        ")\n",
        "bar_fig.update_traces(texttemplate='%{text:.1f}%', textposition='outside')\n",
        "bar_fig.update_layout(yaxis=dict(range=[0, 100]))\n",
        "\n",
        "# Pie Chart\n",
        "category_counts = df['Category'].value_counts().reset_index()\n",
        "category_counts.columns = ['Category', 'Count']\n",
        "pie_fig = px.pie(\n",
        "    category_counts, names='Category', values='Count',\n",
        "    title='Attendance Category Distribution',\n",
        "    color_discrete_sequence=px.colors.qualitative.Set2,\n",
        "    hole=0.3\n",
        ")\n",
        "pie_fig.update_traces(textinfo='percent+label')\n",
        "\n",
        "# Dash App\n",
        "app = Dash(__name__)\n",
        "\n",
        "app.layout = html.Div([\n",
        "    html.H1(\"📅 Student Attendance Dashboard\", style={'textAlign': 'center'}),\n",
        "\n",
        "    html.H3(critical_warning_text, style={'textAlign': 'center', 'color': 'crimson'}),\n",
        "\n",
        "    html.H2(\"📋 Attendance Table\"),\n",
        "    dash_table.DataTable(\n",
        "        columns=[{\"name\": col, \"id\": col} for col in df.columns],\n",
        "        data=df.to_dict('records'),\n",
        "        style_table={'overflowX': 'auto'},\n",
        "        style_cell={'textAlign': 'center'},\n",
        "        style_header={'backgroundColor': 'lightblue', 'fontWeight': 'bold'}\n",
        "    ),\n",
        "\n",
        "    html.Div([\n",
        "        html.Div([\n",
        "            dcc.Graph(figure=bar_fig)\n",
        "        ], style={'width': '48%', 'display': 'inline-block'}),\n",
        "\n",
        "        html.Div([\n",
        "            dcc.Graph(figure=pie_fig)\n",
        "        ], style={'width': '48%', 'display': 'inline-block', 'float': 'right'})\n",
        "    ])\n",
        "])\n",
        "\n",
        "# Run App\n",
        "if __name__ == '__main__':\n",
        "    app.run(debug=True)"
      ],
      "metadata": {
        "colab": {
          "base_uri": "https://localhost:8080/",
          "height": 672
        },
        "id": "dvZEsPWXu6ob",
        "outputId": "9c431d9c-f4c3-4315-bd8a-c05b48f6282c"
      },
      "execution_count": 328,
      "outputs": [
        {
          "output_type": "display_data",
          "data": {
            "text/plain": [
              "<IPython.core.display.Javascript object>"
            ],
            "application/javascript": [
              "(async (port, path, width, height, cache, element) => {\n",
              "    if (!google.colab.kernel.accessAllowed && !cache) {\n",
              "      return;\n",
              "    }\n",
              "    element.appendChild(document.createTextNode(''));\n",
              "    const url = await google.colab.kernel.proxyPort(port, {cache});\n",
              "    const iframe = document.createElement('iframe');\n",
              "    iframe.src = new URL(path, url).toString();\n",
              "    iframe.height = height;\n",
              "    iframe.width = width;\n",
              "    iframe.style.border = 0;\n",
              "    iframe.allow = [\n",
              "        'accelerometer',\n",
              "        'autoplay',\n",
              "        'camera',\n",
              "        'clipboard-read',\n",
              "        'clipboard-write',\n",
              "        'gyroscope',\n",
              "        'magnetometer',\n",
              "        'microphone',\n",
              "        'serial',\n",
              "        'usb',\n",
              "        'xr-spatial-tracking',\n",
              "    ].join('; ');\n",
              "    element.appendChild(iframe);\n",
              "  })(8050, \"/\", \"100%\", 650, false, window.element)"
            ]
          },
          "metadata": {}
        }
      ]
    },
    {
      "cell_type": "code",
      "source": [
        "print(\"🧾 Columns in DataFrame:\", df.columns.tolist())\n"
      ],
      "metadata": {
        "colab": {
          "base_uri": "https://localhost:8080/"
        },
        "id": "BDKErPa4ugqW",
        "outputId": "dd6fc77e-b658-4193-e625-e99523fdaf52"
      },
      "execution_count": 329,
      "outputs": [
        {
          "output_type": "stream",
          "name": "stdout",
          "text": [
            "🧾 Columns in DataFrame: ['Student Name', 'Student ID', 'Total Classes', 'Attended Classes', 'Attendance %', 'Category']\n"
          ]
        }
      ]
    },
    {
      "cell_type": "code",
      "source": [
        "df[attended_col] = pd.to_numeric(df[attended_col], errors='coerce')\n",
        "df[total_col] = pd.to_numeric(df[total_col], errors='coerce')\n"
      ],
      "metadata": {
        "id": "HPc6G9kTumma"
      },
      "execution_count": 330,
      "outputs": []
    },
    {
      "cell_type": "code",
      "source": [
        "print(df[[attended_col, total_col]].isna().sum())\n"
      ],
      "metadata": {
        "colab": {
          "base_uri": "https://localhost:8080/"
        },
        "id": "YqnryZwruql5",
        "outputId": "b1aaf213-dbd6-4345-de74-d81ee1e6255e"
      },
      "execution_count": 331,
      "outputs": [
        {
          "output_type": "stream",
          "name": "stdout",
          "text": [
            "Attended Classes    0\n",
            "Total Classes       0\n",
            "dtype: int64\n"
          ]
        }
      ]
    },
    {
      "cell_type": "code",
      "source": [
        "from dash.dependencies import Input, Output\n",
        "from dash import dcc\n",
        "\n",
        "# Dropdown for filtering by category\n",
        "html.Div([\n",
        "    html.Label(\"Filter by Attendance Category\"),\n",
        "    dcc.Dropdown(\n",
        "        id='category-filter',\n",
        "        options=[{'label': cat, 'value': cat} for cat in df['Category'].unique()],\n",
        "        value=None,\n",
        "        placeholder=\"Select a category\"\n",
        "    )\n",
        "])"
      ],
      "metadata": {
        "colab": {
          "base_uri": "https://localhost:8080/"
        },
        "id": "VmUNgpkorJYA",
        "outputId": "7d920064-56c3-4388-bf24-c953e9ce054a"
      },
      "execution_count": 332,
      "outputs": [
        {
          "output_type": "execute_result",
          "data": {
            "text/plain": [
              "Div([Label('Filter by Attendance Category'), Dropdown(options=[{'label': 'Warning', 'value': 'Warning'}, {'label': 'Critical', 'value': 'Critical'}, {'label': 'Good', 'value': 'Good'}], placeholder='Select a category', id='category-filter')])"
            ]
          },
          "metadata": {},
          "execution_count": 332
        }
      ]
    },
    {
      "cell_type": "code",
      "source": [
        "dcc.Download(id='download-dataframe-csv'),\n",
        "html.Button(\"Download CSV\", id=\"btn-download\"),\n"
      ],
      "metadata": {
        "colab": {
          "base_uri": "https://localhost:8080/"
        },
        "id": "0lTXDM3KrsV2",
        "outputId": "b9c1db23-90dc-41ed-9397-f3b19e1a8214"
      },
      "execution_count": 333,
      "outputs": [
        {
          "output_type": "execute_result",
          "data": {
            "text/plain": [
              "(Button(children='Download CSV', id='btn-download'),)"
            ]
          },
          "metadata": {},
          "execution_count": 333
        }
      ]
    },
    {
      "cell_type": "code",
      "source": [
        "dcc.Upload(\n",
        "    id='upload-data',\n",
        "    children=html.Div([\"📂 Drag and drop or select a CSV file\"]),\n",
        "    multiple=False\n",
        ")\n"
      ],
      "metadata": {
        "colab": {
          "base_uri": "https://localhost:8080/"
        },
        "id": "d1zl-EE7rw3s",
        "outputId": "adc05a5e-93b1-4a42-8ac1-ebe833cd949b"
      },
      "execution_count": 334,
      "outputs": [
        {
          "output_type": "execute_result",
          "data": {
            "text/plain": [
              "Upload(children=Div(['📂 Drag and drop or select a CSV file']), id='upload-data', multiple=False)"
            ]
          },
          "metadata": {},
          "execution_count": 334
        }
      ]
    },
    {
      "cell_type": "code",
      "source": [
        "import pandas as pd\n",
        "\n",
        "# Sample data – replace with your actual survey data\n",
        "data = pd.DataFrame({\n",
        "    \"Challenge\": [\"Distractions\", \"Time Management\", \"Lack of Resources\", \"Anxiety\", \"Procrastination\"],\n",
        "    \"Frequency\": [45, 38, 30, 27, 20]\n",
        "})\n"
      ],
      "metadata": {
        "id": "KbIDlTFoviKk"
      },
      "execution_count": 335,
      "outputs": []
    },
    {
      "cell_type": "markdown",
      "source": [
        "#Dash Layout & Horizontal Bar Chart"
      ],
      "metadata": {
        "id": "oko6hYfcvxuJ"
      }
    },
    {
      "cell_type": "code",
      "source": [
        "import dash\n",
        "from dash import html, dcc\n",
        "import plotly.express as px\n",
        "\n",
        "app = dash.Dash(__name__)\n",
        "\n",
        "# Horizontal Bar Chart\n",
        "fig = px.bar(\n",
        "    data,\n",
        "    x=\"Frequency\",\n",
        "    y=\"Challenge\",\n",
        "    orientation=\"h\",\n",
        "    title=\"Most Common Student Challenges\",\n",
        "    text=\"Frequency\",\n",
        "    color=\"Challenge\"\n",
        ")\n",
        "fig.update_layout(yaxis={'categoryorder':'total ascending'}, showlegend=False)\n",
        "fig.update_traces(textposition=\"outside\")\n",
        "\n",
        "# Layout\n",
        "app.layout = html.Div([\n",
        "    html.H2(\"📊 Most Common Challenges\"),\n",
        "    dcc.Graph(figure=fig)\n",
        "])\n",
        "\n",
        "if __name__ == '__main__':\n",
        "    app.run(debug=True)"
      ],
      "metadata": {
        "colab": {
          "base_uri": "https://localhost:8080/",
          "height": 672
        },
        "id": "HtucDRLpvnwG",
        "outputId": "95eee74e-ce88-4b1e-b2a6-da1366dba6c9"
      },
      "execution_count": 336,
      "outputs": [
        {
          "output_type": "display_data",
          "data": {
            "text/plain": [
              "<IPython.core.display.Javascript object>"
            ],
            "application/javascript": [
              "(async (port, path, width, height, cache, element) => {\n",
              "    if (!google.colab.kernel.accessAllowed && !cache) {\n",
              "      return;\n",
              "    }\n",
              "    element.appendChild(document.createTextNode(''));\n",
              "    const url = await google.colab.kernel.proxyPort(port, {cache});\n",
              "    const iframe = document.createElement('iframe');\n",
              "    iframe.src = new URL(path, url).toString();\n",
              "    iframe.height = height;\n",
              "    iframe.width = width;\n",
              "    iframe.style.border = 0;\n",
              "    iframe.allow = [\n",
              "        'accelerometer',\n",
              "        'autoplay',\n",
              "        'camera',\n",
              "        'clipboard-read',\n",
              "        'clipboard-write',\n",
              "        'gyroscope',\n",
              "        'magnetometer',\n",
              "        'microphone',\n",
              "        'serial',\n",
              "        'usb',\n",
              "        'xr-spatial-tracking',\n",
              "    ].join('; ');\n",
              "    element.appendChild(iframe);\n",
              "  })(8050, \"/\", \"100%\", 650, false, window.element)"
            ]
          },
          "metadata": {}
        }
      ]
    },
    {
      "cell_type": "markdown",
      "source": [
        "#Stacked Bar Chart to Show Distribution"
      ],
      "metadata": {
        "id": "Dbbuf200v-9m"
      }
    },
    {
      "cell_type": "code",
      "source": [
        "import pandas as pd\n",
        "\n",
        "# Sample data for demo\n",
        "data = pd.DataFrame({\n",
        "    \"Study_Method\": [\"Visual\", \"Auditory\", \"Kinesthetic\", \"Visual\", \"Mixed\", \"Auditory\", \"Kinesthetic\", \"Mixed\"],\n",
        "    \"Challenge\": [\"Distractions\", \"Time Management\", \"Lack of Resources\", \"Anxiety\", \"Distractions\", \"Procrastination\", \"Time Management\", \"Anxiety\"],\n",
        "    \"Count\": [12, 15, 10, 8, 14, 9, 11, 7]\n",
        "})\n"
      ],
      "metadata": {
        "id": "fyU_K68BwFn8"
      },
      "execution_count": 337,
      "outputs": []
    },
    {
      "cell_type": "code",
      "source": [
        "import dash\n",
        "from dash import html, dcc\n",
        "import plotly.express as px\n",
        "\n",
        "app = dash.Dash(__name__)\n",
        "\n",
        "# Stacked Bar Chart\n",
        "fig = px.bar(\n",
        "    data,\n",
        "    x=\"Study_Method\",\n",
        "    y=\"Count\",\n",
        "    color=\"Challenge\",\n",
        "    title=\"Challenge Distribution Across Study Methods\",\n",
        "    text=\"Count\"\n",
        ")\n",
        "fig.update_layout(barmode=\"stack\", xaxis_title=\"Study Method\", yaxis_title=\"Student Count\")\n",
        "fig.update_traces(textposition=\"inside\")\n",
        "\n",
        "# Layout\n",
        "app.layout = html.Div([\n",
        "    html.H2(\"🧠 Challenge vs Study Preference\"),\n",
        "    dcc.Graph(figure=fig)\n",
        "])\n",
        "\n",
        "if __name__ == '__main__':\n",
        "    app.run(debug=True)"
      ],
      "metadata": {
        "colab": {
          "base_uri": "https://localhost:8080/",
          "height": 672
        },
        "id": "LmXImzuwv3F_",
        "outputId": "bc69ad42-e0c7-4a8b-e65d-ab43b7dfd4fb"
      },
      "execution_count": 338,
      "outputs": [
        {
          "output_type": "display_data",
          "data": {
            "text/plain": [
              "<IPython.core.display.Javascript object>"
            ],
            "application/javascript": [
              "(async (port, path, width, height, cache, element) => {\n",
              "    if (!google.colab.kernel.accessAllowed && !cache) {\n",
              "      return;\n",
              "    }\n",
              "    element.appendChild(document.createTextNode(''));\n",
              "    const url = await google.colab.kernel.proxyPort(port, {cache});\n",
              "    const iframe = document.createElement('iframe');\n",
              "    iframe.src = new URL(path, url).toString();\n",
              "    iframe.height = height;\n",
              "    iframe.width = width;\n",
              "    iframe.style.border = 0;\n",
              "    iframe.allow = [\n",
              "        'accelerometer',\n",
              "        'autoplay',\n",
              "        'camera',\n",
              "        'clipboard-read',\n",
              "        'clipboard-write',\n",
              "        'gyroscope',\n",
              "        'magnetometer',\n",
              "        'microphone',\n",
              "        'serial',\n",
              "        'usb',\n",
              "        'xr-spatial-tracking',\n",
              "    ].join('; ');\n",
              "    element.appendChild(iframe);\n",
              "  })(8050, \"/\", \"100%\", 650, false, window.element)"
            ]
          },
          "metadata": {}
        }
      ]
    },
    {
      "cell_type": "markdown",
      "source": [
        "#Attendance % by Challenge Type"
      ],
      "metadata": {
        "id": "jm3jwgyVwV0a"
      }
    },
    {
      "cell_type": "code",
      "source": [
        "import pandas as pd\n",
        "\n",
        "data = pd.DataFrame({\n",
        "    \"Challenge\": [\"Distractions\", \"Time Management\", \"Lack of Resources\", \"Anxiety\", \"Procrastination\"],\n",
        "    \"Avg_Attendance_Percent\": [82.5, 76.3, 68.4, 70.2, 85.0],\n",
        "    \"Student_Count\": [45, 38, 30, 27, 20]\n",
        "})\n"
      ],
      "metadata": {
        "id": "KyDM8vqFwO27"
      },
      "execution_count": 339,
      "outputs": []
    },
    {
      "cell_type": "code",
      "source": [
        "import dash\n",
        "from dash import html, dcc\n",
        "import plotly.express as px\n",
        "\n",
        "app = dash.Dash(__name__)\n",
        "\n",
        "# Bar Chart: Attendance by Challenge\n",
        "fig = px.bar(\n",
        "    data,\n",
        "    x=\"Challenge\",\n",
        "    y=\"Avg_Attendance_Percent\",\n",
        "    text=\"Avg_Attendance_Percent\",\n",
        "    title=\"📈 Attendance % for Students Reporting Each Challenge\",\n",
        "    color=\"Challenge\"\n",
        ")\n",
        "fig.update_layout(yaxis_title=\"Average Attendance (%)\", showlegend=False)\n",
        "fig.update_traces(textposition=\"outside\")\n",
        "\n",
        "# Layout\n",
        "app.layout = html.Div([\n",
        "    html.H2(\"📈 Attendance Trends\"),\n",
        "    dcc.Graph(figure=fig)\n",
        "])\n",
        "\n",
        "if __name__ == '__main__':\n",
        "    app.run(debug=True)"
      ],
      "metadata": {
        "colab": {
          "base_uri": "https://localhost:8080/",
          "height": 672
        },
        "id": "8RCOgDP0we1U",
        "outputId": "b3a566ab-e937-46be-c068-ce4dcfa563a2"
      },
      "execution_count": 340,
      "outputs": [
        {
          "output_type": "display_data",
          "data": {
            "text/plain": [
              "<IPython.core.display.Javascript object>"
            ],
            "application/javascript": [
              "(async (port, path, width, height, cache, element) => {\n",
              "    if (!google.colab.kernel.accessAllowed && !cache) {\n",
              "      return;\n",
              "    }\n",
              "    element.appendChild(document.createTextNode(''));\n",
              "    const url = await google.colab.kernel.proxyPort(port, {cache});\n",
              "    const iframe = document.createElement('iframe');\n",
              "    iframe.src = new URL(path, url).toString();\n",
              "    iframe.height = height;\n",
              "    iframe.width = width;\n",
              "    iframe.style.border = 0;\n",
              "    iframe.allow = [\n",
              "        'accelerometer',\n",
              "        'autoplay',\n",
              "        'camera',\n",
              "        'clipboard-read',\n",
              "        'clipboard-write',\n",
              "        'gyroscope',\n",
              "        'magnetometer',\n",
              "        'microphone',\n",
              "        'serial',\n",
              "        'usb',\n",
              "        'xr-spatial-tracking',\n",
              "    ].join('; ');\n",
              "    element.appendChild(iframe);\n",
              "  })(8050, \"/\", \"100%\", 650, false, window.element)"
            ]
          },
          "metadata": {}
        }
      ]
    },
    {
      "cell_type": "markdown",
      "source": [
        "#Avg Study Time by Method"
      ],
      "metadata": {
        "id": "kLnPkSNcwzTG"
      }
    },
    {
      "cell_type": "code",
      "source": [
        "study_data = pd.DataFrame({\n",
        "    \"Study_Method\": [\"Group\", \"Self\", \"Online\"],\n",
        "    \"Avg_Study_Hours\": [2.4, 3.2, 1.8]\n",
        "})\n",
        "\n",
        "import plotly.express as px\n",
        "\n",
        "fig = px.bar(\n",
        "    study_data,\n",
        "    x=\"Study_Method\",\n",
        "    y=\"Avg_Study_Hours\",\n",
        "    text=\"Avg_Study_Hours\",\n",
        "    title=\"📚 Average Study Time by Method\",\n",
        "    color=\"Study_Method\"\n",
        ")\n",
        "fig.update_traces(textposition=\"outside\")\n"
      ],
      "metadata": {
        "colab": {
          "base_uri": "https://localhost:8080/",
          "height": 542
        },
        "id": "Pn5MVbP5xTYX",
        "outputId": "e0946c40-fa64-4ec8-f38c-3598316fa309"
      },
      "execution_count": 341,
      "outputs": [
        {
          "output_type": "display_data",
          "data": {
            "text/html": [
              "<html>\n",
              "<head><meta charset=\"utf-8\" /></head>\n",
              "<body>\n",
              "    <div>            <script src=\"https://cdnjs.cloudflare.com/ajax/libs/mathjax/2.7.5/MathJax.js?config=TeX-AMS-MML_SVG\"></script><script type=\"text/javascript\">if (window.MathJax && window.MathJax.Hub && window.MathJax.Hub.Config) {window.MathJax.Hub.Config({SVG: {font: \"STIX-Web\"}});}</script>                <script type=\"text/javascript\">window.PlotlyConfig = {MathJaxConfig: 'local'};</script>\n",
              "        <script charset=\"utf-8\" src=\"https://cdn.plot.ly/plotly-2.35.2.min.js\"></script>                <div id=\"e3342605-1625-448d-a91b-b2e20e6ea703\" class=\"plotly-graph-div\" style=\"height:525px; width:100%;\"></div>            <script type=\"text/javascript\">                                    window.PLOTLYENV=window.PLOTLYENV || {};                                    if (document.getElementById(\"e3342605-1625-448d-a91b-b2e20e6ea703\")) {                    Plotly.newPlot(                        \"e3342605-1625-448d-a91b-b2e20e6ea703\",                        [{\"alignmentgroup\":\"True\",\"hovertemplate\":\"Study_Method=%{x}\\u003cbr\\u003eAvg_Study_Hours=%{text}\\u003cextra\\u003e\\u003c\\u002fextra\\u003e\",\"legendgroup\":\"Group\",\"marker\":{\"color\":\"#636efa\",\"pattern\":{\"shape\":\"\"}},\"name\":\"Group\",\"offsetgroup\":\"Group\",\"orientation\":\"v\",\"showlegend\":true,\"text\":[2.4],\"textposition\":\"outside\",\"x\":[\"Group\"],\"xaxis\":\"x\",\"y\":[2.4],\"yaxis\":\"y\",\"type\":\"bar\"},{\"alignmentgroup\":\"True\",\"hovertemplate\":\"Study_Method=%{x}\\u003cbr\\u003eAvg_Study_Hours=%{text}\\u003cextra\\u003e\\u003c\\u002fextra\\u003e\",\"legendgroup\":\"Self\",\"marker\":{\"color\":\"#EF553B\",\"pattern\":{\"shape\":\"\"}},\"name\":\"Self\",\"offsetgroup\":\"Self\",\"orientation\":\"v\",\"showlegend\":true,\"text\":[3.2],\"textposition\":\"outside\",\"x\":[\"Self\"],\"xaxis\":\"x\",\"y\":[3.2],\"yaxis\":\"y\",\"type\":\"bar\"},{\"alignmentgroup\":\"True\",\"hovertemplate\":\"Study_Method=%{x}\\u003cbr\\u003eAvg_Study_Hours=%{text}\\u003cextra\\u003e\\u003c\\u002fextra\\u003e\",\"legendgroup\":\"Online\",\"marker\":{\"color\":\"#00cc96\",\"pattern\":{\"shape\":\"\"}},\"name\":\"Online\",\"offsetgroup\":\"Online\",\"orientation\":\"v\",\"showlegend\":true,\"text\":[1.8],\"textposition\":\"outside\",\"x\":[\"Online\"],\"xaxis\":\"x\",\"y\":[1.8],\"yaxis\":\"y\",\"type\":\"bar\"}],                        {\"template\":{\"data\":{\"histogram2dcontour\":[{\"type\":\"histogram2dcontour\",\"colorbar\":{\"outlinewidth\":0,\"ticks\":\"\"},\"colorscale\":[[0.0,\"#0d0887\"],[0.1111111111111111,\"#46039f\"],[0.2222222222222222,\"#7201a8\"],[0.3333333333333333,\"#9c179e\"],[0.4444444444444444,\"#bd3786\"],[0.5555555555555556,\"#d8576b\"],[0.6666666666666666,\"#ed7953\"],[0.7777777777777778,\"#fb9f3a\"],[0.8888888888888888,\"#fdca26\"],[1.0,\"#f0f921\"]]}],\"choropleth\":[{\"type\":\"choropleth\",\"colorbar\":{\"outlinewidth\":0,\"ticks\":\"\"}}],\"histogram2d\":[{\"type\":\"histogram2d\",\"colorbar\":{\"outlinewidth\":0,\"ticks\":\"\"},\"colorscale\":[[0.0,\"#0d0887\"],[0.1111111111111111,\"#46039f\"],[0.2222222222222222,\"#7201a8\"],[0.3333333333333333,\"#9c179e\"],[0.4444444444444444,\"#bd3786\"],[0.5555555555555556,\"#d8576b\"],[0.6666666666666666,\"#ed7953\"],[0.7777777777777778,\"#fb9f3a\"],[0.8888888888888888,\"#fdca26\"],[1.0,\"#f0f921\"]]}],\"heatmap\":[{\"type\":\"heatmap\",\"colorbar\":{\"outlinewidth\":0,\"ticks\":\"\"},\"colorscale\":[[0.0,\"#0d0887\"],[0.1111111111111111,\"#46039f\"],[0.2222222222222222,\"#7201a8\"],[0.3333333333333333,\"#9c179e\"],[0.4444444444444444,\"#bd3786\"],[0.5555555555555556,\"#d8576b\"],[0.6666666666666666,\"#ed7953\"],[0.7777777777777778,\"#fb9f3a\"],[0.8888888888888888,\"#fdca26\"],[1.0,\"#f0f921\"]]}],\"heatmapgl\":[{\"type\":\"heatmapgl\",\"colorbar\":{\"outlinewidth\":0,\"ticks\":\"\"},\"colorscale\":[[0.0,\"#0d0887\"],[0.1111111111111111,\"#46039f\"],[0.2222222222222222,\"#7201a8\"],[0.3333333333333333,\"#9c179e\"],[0.4444444444444444,\"#bd3786\"],[0.5555555555555556,\"#d8576b\"],[0.6666666666666666,\"#ed7953\"],[0.7777777777777778,\"#fb9f3a\"],[0.8888888888888888,\"#fdca26\"],[1.0,\"#f0f921\"]]}],\"contourcarpet\":[{\"type\":\"contourcarpet\",\"colorbar\":{\"outlinewidth\":0,\"ticks\":\"\"}}],\"contour\":[{\"type\":\"contour\",\"colorbar\":{\"outlinewidth\":0,\"ticks\":\"\"},\"colorscale\":[[0.0,\"#0d0887\"],[0.1111111111111111,\"#46039f\"],[0.2222222222222222,\"#7201a8\"],[0.3333333333333333,\"#9c179e\"],[0.4444444444444444,\"#bd3786\"],[0.5555555555555556,\"#d8576b\"],[0.6666666666666666,\"#ed7953\"],[0.7777777777777778,\"#fb9f3a\"],[0.8888888888888888,\"#fdca26\"],[1.0,\"#f0f921\"]]}],\"surface\":[{\"type\":\"surface\",\"colorbar\":{\"outlinewidth\":0,\"ticks\":\"\"},\"colorscale\":[[0.0,\"#0d0887\"],[0.1111111111111111,\"#46039f\"],[0.2222222222222222,\"#7201a8\"],[0.3333333333333333,\"#9c179e\"],[0.4444444444444444,\"#bd3786\"],[0.5555555555555556,\"#d8576b\"],[0.6666666666666666,\"#ed7953\"],[0.7777777777777778,\"#fb9f3a\"],[0.8888888888888888,\"#fdca26\"],[1.0,\"#f0f921\"]]}],\"mesh3d\":[{\"type\":\"mesh3d\",\"colorbar\":{\"outlinewidth\":0,\"ticks\":\"\"}}],\"scatter\":[{\"fillpattern\":{\"fillmode\":\"overlay\",\"size\":10,\"solidity\":0.2},\"type\":\"scatter\"}],\"parcoords\":[{\"type\":\"parcoords\",\"line\":{\"colorbar\":{\"outlinewidth\":0,\"ticks\":\"\"}}}],\"scatterpolargl\":[{\"type\":\"scatterpolargl\",\"marker\":{\"colorbar\":{\"outlinewidth\":0,\"ticks\":\"\"}}}],\"bar\":[{\"error_x\":{\"color\":\"#2a3f5f\"},\"error_y\":{\"color\":\"#2a3f5f\"},\"marker\":{\"line\":{\"color\":\"#E5ECF6\",\"width\":0.5},\"pattern\":{\"fillmode\":\"overlay\",\"size\":10,\"solidity\":0.2}},\"type\":\"bar\"}],\"scattergeo\":[{\"type\":\"scattergeo\",\"marker\":{\"colorbar\":{\"outlinewidth\":0,\"ticks\":\"\"}}}],\"scatterpolar\":[{\"type\":\"scatterpolar\",\"marker\":{\"colorbar\":{\"outlinewidth\":0,\"ticks\":\"\"}}}],\"histogram\":[{\"marker\":{\"pattern\":{\"fillmode\":\"overlay\",\"size\":10,\"solidity\":0.2}},\"type\":\"histogram\"}],\"scattergl\":[{\"type\":\"scattergl\",\"marker\":{\"colorbar\":{\"outlinewidth\":0,\"ticks\":\"\"}}}],\"scatter3d\":[{\"type\":\"scatter3d\",\"line\":{\"colorbar\":{\"outlinewidth\":0,\"ticks\":\"\"}},\"marker\":{\"colorbar\":{\"outlinewidth\":0,\"ticks\":\"\"}}}],\"scattermapbox\":[{\"type\":\"scattermapbox\",\"marker\":{\"colorbar\":{\"outlinewidth\":0,\"ticks\":\"\"}}}],\"scatterternary\":[{\"type\":\"scatterternary\",\"marker\":{\"colorbar\":{\"outlinewidth\":0,\"ticks\":\"\"}}}],\"scattercarpet\":[{\"type\":\"scattercarpet\",\"marker\":{\"colorbar\":{\"outlinewidth\":0,\"ticks\":\"\"}}}],\"carpet\":[{\"aaxis\":{\"endlinecolor\":\"#2a3f5f\",\"gridcolor\":\"white\",\"linecolor\":\"white\",\"minorgridcolor\":\"white\",\"startlinecolor\":\"#2a3f5f\"},\"baxis\":{\"endlinecolor\":\"#2a3f5f\",\"gridcolor\":\"white\",\"linecolor\":\"white\",\"minorgridcolor\":\"white\",\"startlinecolor\":\"#2a3f5f\"},\"type\":\"carpet\"}],\"table\":[{\"cells\":{\"fill\":{\"color\":\"#EBF0F8\"},\"line\":{\"color\":\"white\"}},\"header\":{\"fill\":{\"color\":\"#C8D4E3\"},\"line\":{\"color\":\"white\"}},\"type\":\"table\"}],\"barpolar\":[{\"marker\":{\"line\":{\"color\":\"#E5ECF6\",\"width\":0.5},\"pattern\":{\"fillmode\":\"overlay\",\"size\":10,\"solidity\":0.2}},\"type\":\"barpolar\"}],\"pie\":[{\"automargin\":true,\"type\":\"pie\"}]},\"layout\":{\"autotypenumbers\":\"strict\",\"colorway\":[\"#636efa\",\"#EF553B\",\"#00cc96\",\"#ab63fa\",\"#FFA15A\",\"#19d3f3\",\"#FF6692\",\"#B6E880\",\"#FF97FF\",\"#FECB52\"],\"font\":{\"color\":\"#2a3f5f\"},\"hovermode\":\"closest\",\"hoverlabel\":{\"align\":\"left\"},\"paper_bgcolor\":\"white\",\"plot_bgcolor\":\"#E5ECF6\",\"polar\":{\"bgcolor\":\"#E5ECF6\",\"angularaxis\":{\"gridcolor\":\"white\",\"linecolor\":\"white\",\"ticks\":\"\"},\"radialaxis\":{\"gridcolor\":\"white\",\"linecolor\":\"white\",\"ticks\":\"\"}},\"ternary\":{\"bgcolor\":\"#E5ECF6\",\"aaxis\":{\"gridcolor\":\"white\",\"linecolor\":\"white\",\"ticks\":\"\"},\"baxis\":{\"gridcolor\":\"white\",\"linecolor\":\"white\",\"ticks\":\"\"},\"caxis\":{\"gridcolor\":\"white\",\"linecolor\":\"white\",\"ticks\":\"\"}},\"coloraxis\":{\"colorbar\":{\"outlinewidth\":0,\"ticks\":\"\"}},\"colorscale\":{\"sequential\":[[0.0,\"#0d0887\"],[0.1111111111111111,\"#46039f\"],[0.2222222222222222,\"#7201a8\"],[0.3333333333333333,\"#9c179e\"],[0.4444444444444444,\"#bd3786\"],[0.5555555555555556,\"#d8576b\"],[0.6666666666666666,\"#ed7953\"],[0.7777777777777778,\"#fb9f3a\"],[0.8888888888888888,\"#fdca26\"],[1.0,\"#f0f921\"]],\"sequentialminus\":[[0.0,\"#0d0887\"],[0.1111111111111111,\"#46039f\"],[0.2222222222222222,\"#7201a8\"],[0.3333333333333333,\"#9c179e\"],[0.4444444444444444,\"#bd3786\"],[0.5555555555555556,\"#d8576b\"],[0.6666666666666666,\"#ed7953\"],[0.7777777777777778,\"#fb9f3a\"],[0.8888888888888888,\"#fdca26\"],[1.0,\"#f0f921\"]],\"diverging\":[[0,\"#8e0152\"],[0.1,\"#c51b7d\"],[0.2,\"#de77ae\"],[0.3,\"#f1b6da\"],[0.4,\"#fde0ef\"],[0.5,\"#f7f7f7\"],[0.6,\"#e6f5d0\"],[0.7,\"#b8e186\"],[0.8,\"#7fbc41\"],[0.9,\"#4d9221\"],[1,\"#276419\"]]},\"xaxis\":{\"gridcolor\":\"white\",\"linecolor\":\"white\",\"ticks\":\"\",\"title\":{\"standoff\":15},\"zerolinecolor\":\"white\",\"automargin\":true,\"zerolinewidth\":2},\"yaxis\":{\"gridcolor\":\"white\",\"linecolor\":\"white\",\"ticks\":\"\",\"title\":{\"standoff\":15},\"zerolinecolor\":\"white\",\"automargin\":true,\"zerolinewidth\":2},\"scene\":{\"xaxis\":{\"backgroundcolor\":\"#E5ECF6\",\"gridcolor\":\"white\",\"linecolor\":\"white\",\"showbackground\":true,\"ticks\":\"\",\"zerolinecolor\":\"white\",\"gridwidth\":2},\"yaxis\":{\"backgroundcolor\":\"#E5ECF6\",\"gridcolor\":\"white\",\"linecolor\":\"white\",\"showbackground\":true,\"ticks\":\"\",\"zerolinecolor\":\"white\",\"gridwidth\":2},\"zaxis\":{\"backgroundcolor\":\"#E5ECF6\",\"gridcolor\":\"white\",\"linecolor\":\"white\",\"showbackground\":true,\"ticks\":\"\",\"zerolinecolor\":\"white\",\"gridwidth\":2}},\"shapedefaults\":{\"line\":{\"color\":\"#2a3f5f\"}},\"annotationdefaults\":{\"arrowcolor\":\"#2a3f5f\",\"arrowhead\":0,\"arrowwidth\":1},\"geo\":{\"bgcolor\":\"white\",\"landcolor\":\"#E5ECF6\",\"subunitcolor\":\"white\",\"showland\":true,\"showlakes\":true,\"lakecolor\":\"white\"},\"title\":{\"x\":0.05},\"mapbox\":{\"style\":\"light\"}}},\"xaxis\":{\"anchor\":\"y\",\"domain\":[0.0,1.0],\"title\":{\"text\":\"Study_Method\"},\"categoryorder\":\"array\",\"categoryarray\":[\"Group\",\"Self\",\"Online\"]},\"yaxis\":{\"anchor\":\"x\",\"domain\":[0.0,1.0],\"title\":{\"text\":\"Avg_Study_Hours\"}},\"legend\":{\"title\":{\"text\":\"Study_Method\"},\"tracegroupgap\":0},\"title\":{\"text\":\"📚 Average Study Time by Method\"},\"barmode\":\"relative\"},                        {\"responsive\": true}                    ).then(function(){\n",
              "                            \n",
              "var gd = document.getElementById('e3342605-1625-448d-a91b-b2e20e6ea703');\n",
              "var x = new MutationObserver(function (mutations, observer) {{\n",
              "        var display = window.getComputedStyle(gd).display;\n",
              "        if (!display || display === 'none') {{\n",
              "            console.log([gd, 'removed!']);\n",
              "            Plotly.purge(gd);\n",
              "            observer.disconnect();\n",
              "        }}\n",
              "}});\n",
              "\n",
              "// Listen for the removal of the full notebook cells\n",
              "var notebookContainer = gd.closest('#notebook-container');\n",
              "if (notebookContainer) {{\n",
              "    x.observe(notebookContainer, {childList: true});\n",
              "}}\n",
              "\n",
              "// Listen for the clearing of the current output cell\n",
              "var outputEl = gd.closest('.output');\n",
              "if (outputEl) {{\n",
              "    x.observe(outputEl, {childList: true});\n",
              "}}\n",
              "\n",
              "                        })                };                            </script>        </div>\n",
              "</body>\n",
              "</html>"
            ]
          },
          "metadata": {}
        }
      ]
    },
    {
      "cell_type": "markdown",
      "source": [],
      "metadata": {
        "id": "_c63URmIx3Xv"
      }
    },
    {
      "cell_type": "code",
      "source": [
        "import pandas as pd\n",
        "\n",
        "# Sample dataset for visualization\n",
        "data = pd.DataFrame({\n",
        "    \"Student_ID\": [101, 102, 103, 104, 105],\n",
        "    \"Daily_Study_Hours\": [2.5, 4.0, 1.8, 3.5, 5.2],\n",
        "    \"Stress_Score\": [3.2, 4.5, 2.0, 3.8, 4.7]  # On a scale of 1 (low) to 5 (high)\n",
        "})\n"
      ],
      "metadata": {
        "id": "t2OXX4aix324"
      },
      "execution_count": 342,
      "outputs": []
    },
    {
      "cell_type": "code",
      "source": [
        "import dash\n",
        "from dash import html, dcc\n",
        "import plotly.express as px\n",
        "\n",
        "app = dash.Dash(__name__)\n",
        "\n",
        "# Scatter Plot\n",
        "fig = px.scatter(\n",
        "    data,\n",
        "    x=\"Daily_Study_Hours\",\n",
        "    y=\"Stress_Score\",\n",
        "    hover_name=\"Student_ID\",\n",
        "    color=\"Stress_Score\",\n",
        "    color_continuous_scale=\"RdYlGn_r\",\n",
        "    title=\"🧪 Study Time vs. Stress Levels\"\n",
        ")\n",
        "fig.update_layout(xaxis_title=\"Daily Study Hours\", yaxis_title=\"Stress Score (1–5)\")\n",
        "\n",
        "# Layout\n",
        "app.layout = html.Div([\n",
        "    html.H2(\"🧠 Study Behavior Analysis\"),\n",
        "    dcc.Graph(figure=fig)\n",
        "])\n",
        "\n",
        "if __name__ == '__main__':\n",
        "    app.run(debug=True)"
      ],
      "metadata": {
        "colab": {
          "base_uri": "https://localhost:8080/",
          "height": 672
        },
        "id": "XDwPqs7KyA-N",
        "outputId": "e5e94b70-d26c-4874-ded0-5e5ef26305b0"
      },
      "execution_count": 343,
      "outputs": [
        {
          "output_type": "display_data",
          "data": {
            "text/plain": [
              "<IPython.core.display.Javascript object>"
            ],
            "application/javascript": [
              "(async (port, path, width, height, cache, element) => {\n",
              "    if (!google.colab.kernel.accessAllowed && !cache) {\n",
              "      return;\n",
              "    }\n",
              "    element.appendChild(document.createTextNode(''));\n",
              "    const url = await google.colab.kernel.proxyPort(port, {cache});\n",
              "    const iframe = document.createElement('iframe');\n",
              "    iframe.src = new URL(path, url).toString();\n",
              "    iframe.height = height;\n",
              "    iframe.width = width;\n",
              "    iframe.style.border = 0;\n",
              "    iframe.allow = [\n",
              "        'accelerometer',\n",
              "        'autoplay',\n",
              "        'camera',\n",
              "        'clipboard-read',\n",
              "        'clipboard-write',\n",
              "        'gyroscope',\n",
              "        'magnetometer',\n",
              "        'microphone',\n",
              "        'serial',\n",
              "        'usb',\n",
              "        'xr-spatial-tracking',\n",
              "    ].join('; ');\n",
              "    element.appendChild(iframe);\n",
              "  })(8050, \"/\", \"100%\", 650, false, window.element)"
            ]
          },
          "metadata": {}
        }
      ]
    },
    {
      "cell_type": "markdown",
      "source": [],
      "metadata": {
        "id": "3X98stxozISr"
      }
    },
    {
      "cell_type": "code",
      "source": [
        "import dash\n",
        "from dash import dcc, html, Input, Output\n",
        "import pandas as pd\n",
        "from sklearn.linear_model import LinearRegression\n",
        "\n",
        "# 🧪 Sample dataset — replace with your cleaned survey data\n",
        "df = pd.DataFrame({\n",
        "    'financial_stress': [1, 0, 1, 0],\n",
        "    'family_issues': [0, 1, 1, 0],\n",
        "    'motivation_score': [5, 8, 3, 7],   # Scale: 1–10\n",
        "    'attendance_pct': [60, 85, 55, 78],\n",
        "    'stress_score': [80, 65, 90, 70]\n",
        "})\n",
        "\n",
        "# 🎯 Train models\n",
        "attendance_model = LinearRegression().fit(\n",
        "    df[['financial_stress', 'family_issues', 'motivation_score']],\n",
        "    df['attendance_pct']\n",
        ")\n",
        "stress_model = LinearRegression().fit(\n",
        "    df[['financial_stress', 'family_issues', 'motivation_score']],\n",
        "    df['stress_score']\n",
        ")\n",
        "\n",
        "# 🌐 Dash App Layout\n",
        "app = dash.Dash(__name__)\n",
        "app.layout = html.Div([\n",
        "    html.H2(\"🎯 Predictive Modeling Panel\"),\n",
        "\n",
        "    html.Label(\"Financial Stress (1 = Yes, 0 = No)\"),\n",
        "    dcc.Input(id='fin_stress', type='number', value=0, min=0, max=1),\n",
        "\n",
        "    html.Label(\"Family Issues (1 = Yes, 0 = No)\"),\n",
        "    dcc.Input(id='fam_issues', type='number', value=0, min=0, max=1),\n",
        "\n",
        "    html.Label(\"Motivation Score (1–10)\"),\n",
        "    dcc.Input(id='mot_score', type='number', value=5, min=1, max=10),\n",
        "\n",
        "    html.Br(), html.Br(),\n",
        "    html.Div(id='output')\n",
        "])\n",
        "\n",
        "# 🔁 Callback for Predictions\n",
        "@app.callback(\n",
        "    Output('output', 'children'),\n",
        "    [Input('fin_stress', 'value'),\n",
        "     Input('fam_issues', 'value'),\n",
        "     Input('mot_score', 'value')]\n",
        ")\n",
        "def predict_outcomes(fin_stress, fam_issues, mot_score):\n",
        "    features = [[fin_stress, fam_issues, mot_score]]\n",
        "    pred_attendance = attendance_model.predict(features)[0]\n",
        "    pred_stress = stress_model.predict(features)[0]\n",
        "\n",
        "    return html.Div([\n",
        "        html.H4(f\"🕒 Estimated Attendance: {pred_attendance:.2f}%\"),\n",
        "        html.H4(f\"🔥 Predicted Stress Score: {pred_stress:.2f}/100\")\n",
        "    ])\n",
        "\n",
        "# 🚀 Run the App\n",
        "if __name__ == '__main__':\n",
        "    app.run(debug=True)"
      ],
      "metadata": {
        "colab": {
          "base_uri": "https://localhost:8080/",
          "height": 796
        },
        "id": "vbGGIRxSzKFQ",
        "outputId": "f0763115-d9a5-43c6-d43d-6db60039acc3"
      },
      "execution_count": 344,
      "outputs": [
        {
          "output_type": "stream",
          "name": "stdout",
          "text": [
            "---------------------------------------------------------------------------\n",
            "DependencyException                       Traceback (most recent call last)\n",
            "DependencyException: Error loading dependency. \"plotly\" is not a registered library.\n",
            "Registered libraries are:\n",
            "['dash']\n",
            "\n"
          ]
        },
        {
          "output_type": "display_data",
          "data": {
            "text/plain": [
              "<IPython.core.display.Javascript object>"
            ],
            "application/javascript": [
              "(async (port, path, width, height, cache, element) => {\n",
              "    if (!google.colab.kernel.accessAllowed && !cache) {\n",
              "      return;\n",
              "    }\n",
              "    element.appendChild(document.createTextNode(''));\n",
              "    const url = await google.colab.kernel.proxyPort(port, {cache});\n",
              "    const iframe = document.createElement('iframe');\n",
              "    iframe.src = new URL(path, url).toString();\n",
              "    iframe.height = height;\n",
              "    iframe.width = width;\n",
              "    iframe.style.border = 0;\n",
              "    iframe.allow = [\n",
              "        'accelerometer',\n",
              "        'autoplay',\n",
              "        'camera',\n",
              "        'clipboard-read',\n",
              "        'clipboard-write',\n",
              "        'gyroscope',\n",
              "        'magnetometer',\n",
              "        'microphone',\n",
              "        'serial',\n",
              "        'usb',\n",
              "        'xr-spatial-tracking',\n",
              "    ].join('; ');\n",
              "    element.appendChild(iframe);\n",
              "  })(8050, \"/\", \"100%\", 650, false, window.element)"
            ]
          },
          "metadata": {}
        }
      ]
    },
    {
      "cell_type": "code",
      "source": [
        "import plotly.express as px\n",
        "import pandas as pd\n",
        "\n",
        "# 🧪 Sample data — replace with your survey results\n",
        "data = pd.DataFrame({\n",
        "    'Learning Preference': ['Visual', 'Auditory', 'Reading/Writing', 'Kinesthetic'],\n",
        "    'Count': [120, 85, 60, 35]\n",
        "})\n",
        "\n",
        "# 🥧 Create the pie chart\n",
        "fig = px.pie(\n",
        "    data,\n",
        "    names='Learning Preference',\n",
        "    values='Count',\n",
        "    title='📚 Learning Preference Distribution',\n",
        "    color_discrete_sequence=px.colors.qualitative.Set3,\n",
        "    hole=0.3  # Optional: donut-style\n",
        ")\n",
        "\n",
        "fig.update_traces(textinfo='percent+label')\n",
        "fig.show()\n"
      ],
      "metadata": {
        "colab": {
          "base_uri": "https://localhost:8080/",
          "height": 542
        },
        "id": "rGghUVH4yLIj",
        "outputId": "f172b77d-0056-476d-b45d-e06396cdbc06"
      },
      "execution_count": 345,
      "outputs": [
        {
          "output_type": "display_data",
          "data": {
            "text/html": [
              "<html>\n",
              "<head><meta charset=\"utf-8\" /></head>\n",
              "<body>\n",
              "    <div>            <script src=\"https://cdnjs.cloudflare.com/ajax/libs/mathjax/2.7.5/MathJax.js?config=TeX-AMS-MML_SVG\"></script><script type=\"text/javascript\">if (window.MathJax && window.MathJax.Hub && window.MathJax.Hub.Config) {window.MathJax.Hub.Config({SVG: {font: \"STIX-Web\"}});}</script>                <script type=\"text/javascript\">window.PlotlyConfig = {MathJaxConfig: 'local'};</script>\n",
              "        <script charset=\"utf-8\" src=\"https://cdn.plot.ly/plotly-2.35.2.min.js\"></script>                <div id=\"c14aefe1-f5f1-4db3-83f6-3ffb8c52a69d\" class=\"plotly-graph-div\" style=\"height:525px; width:100%;\"></div>            <script type=\"text/javascript\">                                    window.PLOTLYENV=window.PLOTLYENV || {};                                    if (document.getElementById(\"c14aefe1-f5f1-4db3-83f6-3ffb8c52a69d\")) {                    Plotly.newPlot(                        \"c14aefe1-f5f1-4db3-83f6-3ffb8c52a69d\",                        [{\"domain\":{\"x\":[0.0,1.0],\"y\":[0.0,1.0]},\"hole\":0.3,\"hovertemplate\":\"Learning Preference=%{label}\\u003cbr\\u003eCount=%{value}\\u003cextra\\u003e\\u003c\\u002fextra\\u003e\",\"labels\":[\"Visual\",\"Auditory\",\"Reading\\u002fWriting\",\"Kinesthetic\"],\"legendgroup\":\"\",\"name\":\"\",\"showlegend\":true,\"values\":[120,85,60,35],\"type\":\"pie\",\"textinfo\":\"percent+label\"}],                        {\"template\":{\"data\":{\"histogram2dcontour\":[{\"type\":\"histogram2dcontour\",\"colorbar\":{\"outlinewidth\":0,\"ticks\":\"\"},\"colorscale\":[[0.0,\"#0d0887\"],[0.1111111111111111,\"#46039f\"],[0.2222222222222222,\"#7201a8\"],[0.3333333333333333,\"#9c179e\"],[0.4444444444444444,\"#bd3786\"],[0.5555555555555556,\"#d8576b\"],[0.6666666666666666,\"#ed7953\"],[0.7777777777777778,\"#fb9f3a\"],[0.8888888888888888,\"#fdca26\"],[1.0,\"#f0f921\"]]}],\"choropleth\":[{\"type\":\"choropleth\",\"colorbar\":{\"outlinewidth\":0,\"ticks\":\"\"}}],\"histogram2d\":[{\"type\":\"histogram2d\",\"colorbar\":{\"outlinewidth\":0,\"ticks\":\"\"},\"colorscale\":[[0.0,\"#0d0887\"],[0.1111111111111111,\"#46039f\"],[0.2222222222222222,\"#7201a8\"],[0.3333333333333333,\"#9c179e\"],[0.4444444444444444,\"#bd3786\"],[0.5555555555555556,\"#d8576b\"],[0.6666666666666666,\"#ed7953\"],[0.7777777777777778,\"#fb9f3a\"],[0.8888888888888888,\"#fdca26\"],[1.0,\"#f0f921\"]]}],\"heatmap\":[{\"type\":\"heatmap\",\"colorbar\":{\"outlinewidth\":0,\"ticks\":\"\"},\"colorscale\":[[0.0,\"#0d0887\"],[0.1111111111111111,\"#46039f\"],[0.2222222222222222,\"#7201a8\"],[0.3333333333333333,\"#9c179e\"],[0.4444444444444444,\"#bd3786\"],[0.5555555555555556,\"#d8576b\"],[0.6666666666666666,\"#ed7953\"],[0.7777777777777778,\"#fb9f3a\"],[0.8888888888888888,\"#fdca26\"],[1.0,\"#f0f921\"]]}],\"heatmapgl\":[{\"type\":\"heatmapgl\",\"colorbar\":{\"outlinewidth\":0,\"ticks\":\"\"},\"colorscale\":[[0.0,\"#0d0887\"],[0.1111111111111111,\"#46039f\"],[0.2222222222222222,\"#7201a8\"],[0.3333333333333333,\"#9c179e\"],[0.4444444444444444,\"#bd3786\"],[0.5555555555555556,\"#d8576b\"],[0.6666666666666666,\"#ed7953\"],[0.7777777777777778,\"#fb9f3a\"],[0.8888888888888888,\"#fdca26\"],[1.0,\"#f0f921\"]]}],\"contourcarpet\":[{\"type\":\"contourcarpet\",\"colorbar\":{\"outlinewidth\":0,\"ticks\":\"\"}}],\"contour\":[{\"type\":\"contour\",\"colorbar\":{\"outlinewidth\":0,\"ticks\":\"\"},\"colorscale\":[[0.0,\"#0d0887\"],[0.1111111111111111,\"#46039f\"],[0.2222222222222222,\"#7201a8\"],[0.3333333333333333,\"#9c179e\"],[0.4444444444444444,\"#bd3786\"],[0.5555555555555556,\"#d8576b\"],[0.6666666666666666,\"#ed7953\"],[0.7777777777777778,\"#fb9f3a\"],[0.8888888888888888,\"#fdca26\"],[1.0,\"#f0f921\"]]}],\"surface\":[{\"type\":\"surface\",\"colorbar\":{\"outlinewidth\":0,\"ticks\":\"\"},\"colorscale\":[[0.0,\"#0d0887\"],[0.1111111111111111,\"#46039f\"],[0.2222222222222222,\"#7201a8\"],[0.3333333333333333,\"#9c179e\"],[0.4444444444444444,\"#bd3786\"],[0.5555555555555556,\"#d8576b\"],[0.6666666666666666,\"#ed7953\"],[0.7777777777777778,\"#fb9f3a\"],[0.8888888888888888,\"#fdca26\"],[1.0,\"#f0f921\"]]}],\"mesh3d\":[{\"type\":\"mesh3d\",\"colorbar\":{\"outlinewidth\":0,\"ticks\":\"\"}}],\"scatter\":[{\"fillpattern\":{\"fillmode\":\"overlay\",\"size\":10,\"solidity\":0.2},\"type\":\"scatter\"}],\"parcoords\":[{\"type\":\"parcoords\",\"line\":{\"colorbar\":{\"outlinewidth\":0,\"ticks\":\"\"}}}],\"scatterpolargl\":[{\"type\":\"scatterpolargl\",\"marker\":{\"colorbar\":{\"outlinewidth\":0,\"ticks\":\"\"}}}],\"bar\":[{\"error_x\":{\"color\":\"#2a3f5f\"},\"error_y\":{\"color\":\"#2a3f5f\"},\"marker\":{\"line\":{\"color\":\"#E5ECF6\",\"width\":0.5},\"pattern\":{\"fillmode\":\"overlay\",\"size\":10,\"solidity\":0.2}},\"type\":\"bar\"}],\"scattergeo\":[{\"type\":\"scattergeo\",\"marker\":{\"colorbar\":{\"outlinewidth\":0,\"ticks\":\"\"}}}],\"scatterpolar\":[{\"type\":\"scatterpolar\",\"marker\":{\"colorbar\":{\"outlinewidth\":0,\"ticks\":\"\"}}}],\"histogram\":[{\"marker\":{\"pattern\":{\"fillmode\":\"overlay\",\"size\":10,\"solidity\":0.2}},\"type\":\"histogram\"}],\"scattergl\":[{\"type\":\"scattergl\",\"marker\":{\"colorbar\":{\"outlinewidth\":0,\"ticks\":\"\"}}}],\"scatter3d\":[{\"type\":\"scatter3d\",\"line\":{\"colorbar\":{\"outlinewidth\":0,\"ticks\":\"\"}},\"marker\":{\"colorbar\":{\"outlinewidth\":0,\"ticks\":\"\"}}}],\"scattermapbox\":[{\"type\":\"scattermapbox\",\"marker\":{\"colorbar\":{\"outlinewidth\":0,\"ticks\":\"\"}}}],\"scatterternary\":[{\"type\":\"scatterternary\",\"marker\":{\"colorbar\":{\"outlinewidth\":0,\"ticks\":\"\"}}}],\"scattercarpet\":[{\"type\":\"scattercarpet\",\"marker\":{\"colorbar\":{\"outlinewidth\":0,\"ticks\":\"\"}}}],\"carpet\":[{\"aaxis\":{\"endlinecolor\":\"#2a3f5f\",\"gridcolor\":\"white\",\"linecolor\":\"white\",\"minorgridcolor\":\"white\",\"startlinecolor\":\"#2a3f5f\"},\"baxis\":{\"endlinecolor\":\"#2a3f5f\",\"gridcolor\":\"white\",\"linecolor\":\"white\",\"minorgridcolor\":\"white\",\"startlinecolor\":\"#2a3f5f\"},\"type\":\"carpet\"}],\"table\":[{\"cells\":{\"fill\":{\"color\":\"#EBF0F8\"},\"line\":{\"color\":\"white\"}},\"header\":{\"fill\":{\"color\":\"#C8D4E3\"},\"line\":{\"color\":\"white\"}},\"type\":\"table\"}],\"barpolar\":[{\"marker\":{\"line\":{\"color\":\"#E5ECF6\",\"width\":0.5},\"pattern\":{\"fillmode\":\"overlay\",\"size\":10,\"solidity\":0.2}},\"type\":\"barpolar\"}],\"pie\":[{\"automargin\":true,\"type\":\"pie\"}]},\"layout\":{\"autotypenumbers\":\"strict\",\"colorway\":[\"#636efa\",\"#EF553B\",\"#00cc96\",\"#ab63fa\",\"#FFA15A\",\"#19d3f3\",\"#FF6692\",\"#B6E880\",\"#FF97FF\",\"#FECB52\"],\"font\":{\"color\":\"#2a3f5f\"},\"hovermode\":\"closest\",\"hoverlabel\":{\"align\":\"left\"},\"paper_bgcolor\":\"white\",\"plot_bgcolor\":\"#E5ECF6\",\"polar\":{\"bgcolor\":\"#E5ECF6\",\"angularaxis\":{\"gridcolor\":\"white\",\"linecolor\":\"white\",\"ticks\":\"\"},\"radialaxis\":{\"gridcolor\":\"white\",\"linecolor\":\"white\",\"ticks\":\"\"}},\"ternary\":{\"bgcolor\":\"#E5ECF6\",\"aaxis\":{\"gridcolor\":\"white\",\"linecolor\":\"white\",\"ticks\":\"\"},\"baxis\":{\"gridcolor\":\"white\",\"linecolor\":\"white\",\"ticks\":\"\"},\"caxis\":{\"gridcolor\":\"white\",\"linecolor\":\"white\",\"ticks\":\"\"}},\"coloraxis\":{\"colorbar\":{\"outlinewidth\":0,\"ticks\":\"\"}},\"colorscale\":{\"sequential\":[[0.0,\"#0d0887\"],[0.1111111111111111,\"#46039f\"],[0.2222222222222222,\"#7201a8\"],[0.3333333333333333,\"#9c179e\"],[0.4444444444444444,\"#bd3786\"],[0.5555555555555556,\"#d8576b\"],[0.6666666666666666,\"#ed7953\"],[0.7777777777777778,\"#fb9f3a\"],[0.8888888888888888,\"#fdca26\"],[1.0,\"#f0f921\"]],\"sequentialminus\":[[0.0,\"#0d0887\"],[0.1111111111111111,\"#46039f\"],[0.2222222222222222,\"#7201a8\"],[0.3333333333333333,\"#9c179e\"],[0.4444444444444444,\"#bd3786\"],[0.5555555555555556,\"#d8576b\"],[0.6666666666666666,\"#ed7953\"],[0.7777777777777778,\"#fb9f3a\"],[0.8888888888888888,\"#fdca26\"],[1.0,\"#f0f921\"]],\"diverging\":[[0,\"#8e0152\"],[0.1,\"#c51b7d\"],[0.2,\"#de77ae\"],[0.3,\"#f1b6da\"],[0.4,\"#fde0ef\"],[0.5,\"#f7f7f7\"],[0.6,\"#e6f5d0\"],[0.7,\"#b8e186\"],[0.8,\"#7fbc41\"],[0.9,\"#4d9221\"],[1,\"#276419\"]]},\"xaxis\":{\"gridcolor\":\"white\",\"linecolor\":\"white\",\"ticks\":\"\",\"title\":{\"standoff\":15},\"zerolinecolor\":\"white\",\"automargin\":true,\"zerolinewidth\":2},\"yaxis\":{\"gridcolor\":\"white\",\"linecolor\":\"white\",\"ticks\":\"\",\"title\":{\"standoff\":15},\"zerolinecolor\":\"white\",\"automargin\":true,\"zerolinewidth\":2},\"scene\":{\"xaxis\":{\"backgroundcolor\":\"#E5ECF6\",\"gridcolor\":\"white\",\"linecolor\":\"white\",\"showbackground\":true,\"ticks\":\"\",\"zerolinecolor\":\"white\",\"gridwidth\":2},\"yaxis\":{\"backgroundcolor\":\"#E5ECF6\",\"gridcolor\":\"white\",\"linecolor\":\"white\",\"showbackground\":true,\"ticks\":\"\",\"zerolinecolor\":\"white\",\"gridwidth\":2},\"zaxis\":{\"backgroundcolor\":\"#E5ECF6\",\"gridcolor\":\"white\",\"linecolor\":\"white\",\"showbackground\":true,\"ticks\":\"\",\"zerolinecolor\":\"white\",\"gridwidth\":2}},\"shapedefaults\":{\"line\":{\"color\":\"#2a3f5f\"}},\"annotationdefaults\":{\"arrowcolor\":\"#2a3f5f\",\"arrowhead\":0,\"arrowwidth\":1},\"geo\":{\"bgcolor\":\"white\",\"landcolor\":\"#E5ECF6\",\"subunitcolor\":\"white\",\"showland\":true,\"showlakes\":true,\"lakecolor\":\"white\"},\"title\":{\"x\":0.05},\"mapbox\":{\"style\":\"light\"}}},\"legend\":{\"tracegroupgap\":0},\"title\":{\"text\":\"📚 Learning Preference Distribution\"},\"piecolorway\":[\"rgb(141,211,199)\",\"rgb(255,255,179)\",\"rgb(190,186,218)\",\"rgb(251,128,114)\",\"rgb(128,177,211)\",\"rgb(253,180,98)\",\"rgb(179,222,105)\",\"rgb(252,205,229)\",\"rgb(217,217,217)\",\"rgb(188,128,189)\",\"rgb(204,235,197)\",\"rgb(255,237,111)\"]},                        {\"responsive\": true}                    ).then(function(){\n",
              "                            \n",
              "var gd = document.getElementById('c14aefe1-f5f1-4db3-83f6-3ffb8c52a69d');\n",
              "var x = new MutationObserver(function (mutations, observer) {{\n",
              "        var display = window.getComputedStyle(gd).display;\n",
              "        if (!display || display === 'none') {{\n",
              "            console.log([gd, 'removed!']);\n",
              "            Plotly.purge(gd);\n",
              "            observer.disconnect();\n",
              "        }}\n",
              "}});\n",
              "\n",
              "// Listen for the removal of the full notebook cells\n",
              "var notebookContainer = gd.closest('#notebook-container');\n",
              "if (notebookContainer) {{\n",
              "    x.observe(notebookContainer, {childList: true});\n",
              "}}\n",
              "\n",
              "// Listen for the clearing of the current output cell\n",
              "var outputEl = gd.closest('.output');\n",
              "if (outputEl) {{\n",
              "    x.observe(outputEl, {childList: true});\n",
              "}}\n",
              "\n",
              "                        })                };                            </script>        </div>\n",
              "</body>\n",
              "</html>"
            ]
          },
          "metadata": {}
        }
      ]
    }
  ]
}